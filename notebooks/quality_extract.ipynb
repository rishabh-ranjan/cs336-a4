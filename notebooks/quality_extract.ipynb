{
 "cells": [
  {
   "cell_type": "code",
   "execution_count": 41,
   "id": "d758fef9-ec7c-4f54-9942-857c1cf2d11f",
   "metadata": {
    "execution": {
     "iopub.execute_input": "2024-05-26T04:07:06.485980Z",
     "iopub.status.busy": "2024-05-26T04:07:06.485546Z",
     "iopub.status.idle": "2024-05-26T04:07:06.502805Z",
     "shell.execute_reply": "2024-05-26T04:07:06.501981Z",
     "shell.execute_reply.started": "2024-05-26T04:07:06.485944Z"
    }
   },
   "outputs": [],
   "source": [
    "from pathlib import Path\n",
    "import random\n",
    "import re\n",
    "import string\n",
    "\n",
    "from bs4 import BeautifulSoup\n",
    "from fastwarc.warc import ArchiveIterator, WarcRecordType\n",
    "from fastwarc.stream_io import GZipStream\n",
    "from tqdm.auto import tqdm\n",
    "\n",
    "from cs336_data import extract, gopher"
   ]
  },
  {
   "cell_type": "code",
   "execution_count": 2,
   "id": "fc6efa25-2263-4e91-bc8e-5b3162a91619",
   "metadata": {
    "execution": {
     "iopub.execute_input": "2024-05-25T20:52:13.162466Z",
     "iopub.status.busy": "2024-05-25T20:52:13.162058Z",
     "iopub.status.idle": "2024-05-25T20:54:53.125517Z",
     "shell.execute_reply": "2024-05-25T20:54:53.124365Z",
     "shell.execute_reply.started": "2024-05-25T20:52:13.162431Z"
    }
   },
   "outputs": [],
   "source": [
    "extract.extract_text_from_warc_gz(\n",
    "    warc_gz_path=\"../data/scrape/enwiki_urls_sampled_100k.warc.gz\",\n",
    "    out_dir=\"../data/scrape/warc_text\"\n",
    ")"
   ]
  },
  {
   "cell_type": "code",
   "execution_count": 6,
   "id": "62065a23-0520-4049-87cf-feddda40db4c",
   "metadata": {
    "execution": {
     "iopub.execute_input": "2024-05-25T21:06:20.714948Z",
     "iopub.status.busy": "2024-05-25T21:06:20.714533Z",
     "iopub.status.idle": "2024-05-25T21:14:10.345856Z",
     "shell.execute_reply": "2024-05-25T21:14:10.344865Z",
     "shell.execute_reply.started": "2024-05-25T21:06:20.714913Z"
    }
   },
   "outputs": [
    {
     "data": {
      "application/vnd.jupyter.widget-view+json": {
       "model_id": "1e7a194a3d4b4ab58a852688c5054b1b",
       "version_major": 2,
       "version_minor": 0
      },
      "text/plain": [
       "  0%|          | 0/121183 [00:00<?, ?it/s]"
      ]
     },
     "metadata": {},
     "output_type": "display_data"
    }
   ],
   "source": [
    "in_dir = \"../data/scrape/warc_text\"\n",
    "out_dir = \"../data/scrape/filter_text\"\n",
    "Path(out_dir).mkdir(parents=True, exist_ok=True)\n",
    "for in_path in tqdm(list(Path(in_dir).iterdir())):\n",
    "    with open(in_path, \"r\") as in_f:\n",
    "        text = in_f.read()\n",
    "    filter_ = gopher.gopher_quality_filter(text)\n",
    "    if filter_:\n",
    "        out_path = f\"{out_dir}/{in_path.name}\"\n",
    "        with open(out_path, \"w\") as out_f:\n",
    "            out_f.write(text)"
   ]
  },
  {
   "cell_type": "markdown",
   "id": "32be3cc7-5e1b-47f0-87ee-0307d94a97ff",
   "metadata": {},
   "source": [
    "# negatives"
   ]
  },
  {
   "cell_type": "code",
   "execution_count": 8,
   "id": "118fac22-33df-417f-a297-c4cedc4d6d41",
   "metadata": {
    "execution": {
     "iopub.execute_input": "2024-05-26T03:11:02.362909Z",
     "iopub.status.busy": "2024-05-26T03:11:02.362478Z",
     "iopub.status.idle": "2024-05-26T03:11:02.378932Z",
     "shell.execute_reply": "2024-05-26T03:11:02.378117Z",
     "shell.execute_reply.started": "2024-05-26T03:11:02.362874Z"
    }
   },
   "outputs": [],
   "source": [
    "cc_dir = \"../data/CC-MAIN-2023-50-warc-filtered\""
   ]
  },
  {
   "cell_type": "code",
   "execution_count": 51,
   "id": "a168f2b9-4ef9-4352-933a-e73bc4f36292",
   "metadata": {
    "execution": {
     "iopub.execute_input": "2024-05-26T04:15:13.150469Z",
     "iopub.status.busy": "2024-05-26T04:15:13.150036Z",
     "iopub.status.idle": "2024-05-26T04:15:13.166826Z",
     "shell.execute_reply": "2024-05-26T04:15:13.166250Z",
     "shell.execute_reply.started": "2024-05-26T04:15:13.150434Z"
    }
   },
   "outputs": [],
   "source": [
    "def html_bytes_to_text(html_bytes):\n",
    "    soup = BeautifulSoup(html_bytes)\n",
    "    text = soup.get_text()\n",
    "    return text"
   ]
  },
  {
   "cell_type": "code",
   "execution_count": 52,
   "id": "28c9e04f-81fb-43e7-9397-06ada3d16338",
   "metadata": {
    "execution": {
     "iopub.execute_input": "2024-05-26T04:15:14.554568Z",
     "iopub.status.busy": "2024-05-26T04:15:14.554205Z",
     "iopub.status.idle": "2024-05-26T04:15:14.569203Z",
     "shell.execute_reply": "2024-05-26T04:15:14.568401Z",
     "shell.execute_reply.started": "2024-05-26T04:15:14.554534Z"
    }
   },
   "outputs": [],
   "source": [
    "punct_re = re.compile(f\"([{re.escape(string.punctuation)}])\")\n",
    "whitespace_re = re.compile(r\"\\s+\")"
   ]
  },
  {
   "cell_type": "code",
   "execution_count": 53,
   "id": "fa832d54-1d90-43b0-87e7-6013973a1c5b",
   "metadata": {
    "execution": {
     "iopub.execute_input": "2024-05-26T04:15:14.911352Z",
     "iopub.status.busy": "2024-05-26T04:15:14.911001Z",
     "iopub.status.idle": "2024-05-26T04:15:14.926774Z",
     "shell.execute_reply": "2024-05-26T04:15:14.925936Z",
     "shell.execute_reply.started": "2024-05-26T04:15:14.911320Z"
    }
   },
   "outputs": [],
   "source": [
    "def normalize_text(text):\n",
    "    text = punct_re.sub(r\" \\1 \", text)\n",
    "    text = text.lower()\n",
    "    text = whitespace_re.sub(\" \", text)\n",
    "    text = text.strip()\n",
    "    return text"
   ]
  },
  {
   "cell_type": "code",
   "execution_count": 58,
   "id": "cb33e74e-de48-46e0-8c0c-999ef2af6ea9",
   "metadata": {
    "execution": {
     "iopub.execute_input": "2024-05-26T04:16:09.624595Z",
     "iopub.status.busy": "2024-05-26T04:16:09.624204Z",
     "iopub.status.idle": "2024-05-26T04:16:09.641860Z",
     "shell.execute_reply": "2024-05-26T04:16:09.640997Z",
     "shell.execute_reply.started": "2024-05-26T04:16:09.624564Z"
    }
   },
   "outputs": [],
   "source": [
    "def preprocess_for_fasttext(html_bytes):\n",
    "    text = html_bytes_to_text(html_bytes)\n",
    "    text = normalize_text(text)\n",
    "    return text"
   ]
  },
  {
   "cell_type": "code",
   "execution_count": 59,
   "id": "54a1f6b7-fa3a-4ed0-9772-b8033ddebd5c",
   "metadata": {
    "execution": {
     "iopub.execute_input": "2024-05-26T04:16:10.394261Z",
     "iopub.status.busy": "2024-05-26T04:16:10.393901Z",
     "iopub.status.idle": "2024-05-26T04:16:10.409233Z",
     "shell.execute_reply": "2024-05-26T04:16:10.408380Z",
     "shell.execute_reply.started": "2024-05-26T04:16:10.394228Z"
    }
   },
   "outputs": [],
   "source": [
    "def html_filter(record):\n",
    "    return record.http_content_type != \"text/html\""
   ]
  },
  {
   "cell_type": "code",
   "execution_count": 66,
   "id": "369f60e7-7ee0-443b-9712-987a71a8798d",
   "metadata": {
    "execution": {
     "iopub.execute_input": "2024-05-26T04:25:14.738643Z",
     "iopub.status.busy": "2024-05-26T04:25:14.738174Z",
     "iopub.status.idle": "2024-05-26T04:25:14.754791Z",
     "shell.execute_reply": "2024-05-26T04:25:14.754095Z",
     "shell.execute_reply.started": "2024-05-26T04:25:14.738602Z"
    }
   },
   "outputs": [],
   "source": [
    "# num_samples = 100_000\n",
    "# num_warc_files = 100\n",
    "num_samples = 10\n",
    "num_warc_files = 1"
   ]
  },
  {
   "cell_type": "code",
   "execution_count": 67,
   "id": "39f899f0-0e56-45c2-98e6-3ae4a00b10e4",
   "metadata": {
    "execution": {
     "iopub.execute_input": "2024-05-26T04:25:18.035519Z",
     "iopub.status.busy": "2024-05-26T04:25:18.035073Z",
     "iopub.status.idle": "2024-05-26T04:25:31.607303Z",
     "shell.execute_reply": "2024-05-26T04:25:31.606431Z",
     "shell.execute_reply.started": "2024-05-26T04:25:18.035484Z"
    }
   },
   "outputs": [
    {
     "data": {
      "application/vnd.jupyter.widget-view+json": {
       "model_id": "5e7d1d94928c41668666f63762cf036e",
       "version_major": 2,
       "version_minor": 0
      },
      "text/plain": [
       "  0%|          | 0/1 [00:00<?, ?it/s]"
      ]
     },
     "metadata": {},
     "output_type": "display_data"
    }
   ],
   "source": [
    "count = 0\n",
    "reservoir = [None for _ in range(num_samples)]\n",
    "warc_gz_paths = list(Path(cc_dir).iterdir())\n",
    "warc_gz_paths = warc_gz_paths[:num_warc_files]\n",
    "for warc_gz_path in tqdm(warc_gz_paths):\n",
    "    with open(warc_gz_path, \"rb\") as gz:\n",
    "        with GZipStream(gz) as stream:\n",
    "            archive_iterator = ArchiveIterator(\n",
    "                stream,\n",
    "                record_types=WarcRecordType.response,\n",
    "                min_content_length=250,\n",
    "                max_content_length=500_000,\n",
    "                func_filter=html_filter,\n",
    "            )\n",
    "            for record in archive_iterator:\n",
    "                count += 1\n",
    "                r_idx = random.randrange(count)\n",
    "                if r_idx >= num_samples:\n",
    "                    continue\n",
    "                html_bytes = record.reader.read()\n"
   ]
  },
  {
   "cell_type": "code",
   "execution_count": 62,
   "id": "72e8f6be-f59a-45cf-8f1d-95aaf41ba2ed",
   "metadata": {
    "execution": {
     "iopub.execute_input": "2024-05-26T04:16:58.061402Z",
     "iopub.status.busy": "2024-05-26T04:16:58.060749Z",
     "iopub.status.idle": "2024-05-26T04:16:58.076036Z",
     "shell.execute_reply": "2024-05-26T04:16:58.075539Z",
     "shell.execute_reply.started": "2024-05-26T04:16:58.061365Z"
    }
   },
   "outputs": [
    {
     "name": "stdout",
     "output_type": "stream",
     "text": [
      "fotografia e progettazione : workshop in giardino hai un ' attività di giardinaggio ? iscriviti login video , notizie , prodotti dal mondo del giardinaggio iscriviti alla newsletter contenutivideo , news , prodotti argomenti prato attrezzature piante e fiori agrofarmaci outdoor formazione mercato verde sportivo tutte le tags eventi piante e fiori prodotti da giardino manutenzione verde giardinaggio macchine da giardino giardini giardinieri formazione eima tutte le tags tipologia video news prodotti eventi vedi tutti ultimi post mai più senza energia ascolta il podcast aiuole allâ€™ombra e al sole nuovo e usato solo annunci per il giardinaggio communityproduttori , negozi e non solo cerca per località lombardia ( 230 ) veneto ( 115 ) emilia romagna ( 85 ) piemonte ( 71 ) toscana ( 63 ) lazio ( 44 ) sicilia ( 34 ) puglia ( 30 ) friuli venezia giulia ( 26 ) marche ( 24 ) campania ( 23 ) estero ( 23 ) trentino alto adige ( 22 ) umbria ( 20 ) liguria ( 19 ) abruzzo ( 16 ) calabria ( 16 ) sardegna ( 16 ) basilicata ( 11 ) molise ( 11 ) cerca i più vicini a te cerca tipologia agenzia agronomo altro azienda centro assistenza consorzio ente / associazione fiere , eventi , servizi florovivaista garden center giardiniere grande distribuzione grossista / distributore gruppo di acquisto marketing / comunicazione manutentore del verde negozio paesaggista del verde rappresentante / agente rivenditore di macchine tutte le tags eventi piante e fiori prodotti da giardino manutenzione verde giardinaggio macchine da giardino giardini giardinieri formazione eima tutte le tags in evidenza copyr spa - insetticidi per orto e giardinocopyr spa pellenc italia srl - macchine manutenzione aree verdipellenc italia srl radio garden - la prima web radio del giardinaggioradio garden contenuti contenuti community cerca progettazione e fotografia : workshop in giardino condividi : formazione 30 - 01 - 2017 all ' interno del radicepura garden festival , la grande kermesse dedicata ai giardini mediterranei che si svolge a giarre , in provincia di catania , ed è in programma per quest ' anno dal 21 aprile al 21 ottobre , sono previsti due workshop dedicati alla fotografia e alla progettazione di giardini . il primo appuntamento è fissato per lunedì 24 aprile con marianne majerus , celebre fotografa di giardini londinese , conosciuta in tutto il mondo . dal 16 al 18 giugno sarà invece un ' altra londinese , sarah eberle , paesaggista , a condurre un workshop dedicato alla progettazione e restauro di giardini mediterranei . durante il festival , che proseguirà fino all ' autunno , verranno allestiti i cinque giardini che hanno vinto il concorso internazionale per giovani paesaggisti e i cinque vincitori tra paesaggisti già affermati . per informazioni si può consultare il sito www . radicepurafestival . com . tags formazione giardini ti potrebbero interessare prato mai più senza energia piante e fiori ascolta il podcast aiuole allâ€™ombra e al sole attrezzature nuovo e usato solo annunci per il giardinaggio attrezzature cippattore semovente su cingolo attrezzature cippatore professionale alte prestazioni piante e fiori dove trovare piante rare e inconsuete attrezzature arieggiatore per trattorino piante e fiori così il giardinaggio fa bene al corpo prato long test tagliaerba a batteria newsletter ricevi una newsletter su misura in base ai tuoi interessi . produttori e negozi gardentv è anche una community di produttori , negozi , servizi . trova i più vicini a te . + hai unâ€™attivitã ? registrati in gardentv . argomenti prato attrezzature piante e fiori agrofarmaci outdoor formazione mercato verde sportivo prodotti e produttori community di gardentv giardinieri , negozi e servizi vicino a te sfoglia i prodotti gardentv chi siamo contattaci dati societari termini e condizioni seguici anche su . . . © copyright 2023 gardentv via aristotele , 54 - 20128 milano - tutti i diritti riservati - p . iva it09441600963 mappa del sito | cookie policy | privacy policy | home ×close elimina membro vuoi davvero eliminare questo membro dallo staff ? annulla si , elimina ×close elimina indirizzo vuoi davvero eliminare questo rivenditore ? annulla si , elimina ×close elimina media sei sicuro di voler eliminare questo media ? annulla si , elimina ×chiudi registrati attenzione : uno o più campi obbligatori non sono stati compilati correttamente ! controlla e compila correttamente i campi evidenziati . nome * cognome * email * username * password * conferma password * interessi * attrezzature prato piante e fiori mercato formazione outdoor protagonisti agrofarmaci voglio iscrivermi alla newsletter e ricevere notizie e aggiornamenti dal mondo del giardinaggio ( no spam ! normative sulla privacy ) accetto normativa sulla privacy e termini e condizioni di utilizzo del sito ho un ' attivita commerciale nel settore del giardinaggio e voglio iscriverla gratis nella community di gardentv sei già registrato ? login invia ×chiudi login email password non sei ancora registrato ? registrati ora . clicca qui ! hai dimenticato la password ? accedi ×chiudi password dimenticata email ti è tornata in mente la password ? login invia ×chiudi contatta questa azienda puoi contattare l ' azienda telefonicamente al numero + 39 02 . 9212345678 oppure inviare un messaggio compilando il modulo : ti risponderà al più presto . nome o ragione sociale email messaggio invia × sei un professionista del verde ? entra nel più grande network del giardinaggio ! sei un giardiniere ? sei un rivenditore ? sei un ' azienda ? iscriviti gratuitamente per creare il tuo profilo , dare visibilità alla tua impresa , entrare in contatto con gli altri utenti , pubblicare i tuoi video e prodotti . registrati ora accedi se sei già iscritto .\n"
     ]
    }
   ],
   "source": [
    "print(reservoir[2])"
   ]
  },
  {
   "cell_type": "code",
   "execution_count": null,
   "id": "64bf01f2-0300-4a1d-8362-0e56cd9e4d05",
   "metadata": {},
   "outputs": [],
   "source": []
  }
 ],
 "metadata": {
  "kernelspec": {
   "display_name": "Python 3 (ipykernel)",
   "language": "python",
   "name": "python3"
  },
  "language_info": {
   "codemirror_mode": {
    "name": "ipython",
    "version": 3
   },
   "file_extension": ".py",
   "mimetype": "text/x-python",
   "name": "python",
   "nbconvert_exporter": "python",
   "pygments_lexer": "ipython3",
   "version": "3.10.14"
  }
 },
 "nbformat": 4,
 "nbformat_minor": 5
}
