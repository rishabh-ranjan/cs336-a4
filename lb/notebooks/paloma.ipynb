{
 "cells": [
  {
   "cell_type": "code",
   "execution_count": 10,
   "id": "76251db1-3a33-4ac5-b730-bb1e0c686719",
   "metadata": {
    "execution": {
     "iopub.execute_input": "2024-05-27T21:52:02.683408Z",
     "iopub.status.busy": "2024-05-27T21:52:02.682936Z",
     "iopub.status.idle": "2024-05-27T21:52:02.699140Z",
     "shell.execute_reply": "2024-05-27T21:52:02.698774Z",
     "shell.execute_reply.started": "2024-05-27T21:52:02.683372Z"
    }
   },
   "outputs": [],
   "source": [
    "import json\n",
    "import subprocess\n",
    "from pathlib import Path\n",
    "import random\n",
    "\n",
    "import numpy as np\n",
    "from xopen import xopen"
   ]
  },
  {
   "cell_type": "markdown",
   "id": "4a4868fa-a7dd-433b-8827-57eab1dc80b4",
   "metadata": {},
   "source": [
    "# raw"
   ]
  },
  {
   "cell_type": "code",
   "execution_count": 3,
   "id": "9afea680-66de-4adb-b21e-9293e66aa418",
   "metadata": {
    "execution": {
     "iopub.execute_input": "2024-05-27T21:50:58.992316Z",
     "iopub.status.busy": "2024-05-27T21:50:58.992000Z",
     "iopub.status.idle": "2024-05-27T21:50:59.003880Z",
     "shell.execute_reply": "2024-05-27T21:50:59.003530Z",
     "shell.execute_reply.started": "2024-05-27T21:50:58.992297Z"
    }
   },
   "outputs": [],
   "source": [
    "PALOMA_DIR = \"../scratch/paloma_c4_100_domains_val\""
   ]
  },
  {
   "cell_type": "code",
   "execution_count": 4,
   "id": "3905122c-7e40-449f-85ee-b8b3a5c239ed",
   "metadata": {
    "execution": {
     "iopub.execute_input": "2024-05-27T21:50:59.523706Z",
     "iopub.status.busy": "2024-05-27T21:50:59.523336Z",
     "iopub.status.idle": "2024-05-27T21:50:59.534381Z",
     "shell.execute_reply": "2024-05-27T21:50:59.533972Z",
     "shell.execute_reply.started": "2024-05-27T21:50:59.523664Z"
    }
   },
   "outputs": [],
   "source": [
    "paloma_files = list(Path(PALOMA_DIR).iterdir())"
   ]
  },
  {
   "cell_type": "code",
   "execution_count": 5,
   "id": "6d542a9f-7a98-4312-936d-7bc7a04c60a1",
   "metadata": {
    "execution": {
     "iopub.execute_input": "2024-05-27T21:51:00.092729Z",
     "iopub.status.busy": "2024-05-27T21:51:00.092332Z",
     "iopub.status.idle": "2024-05-27T21:51:00.119445Z",
     "shell.execute_reply": "2024-05-27T21:51:00.118915Z",
     "shell.execute_reply.started": "2024-05-27T21:51:00.092689Z"
    }
   },
   "outputs": [],
   "source": [
    "obj_list = []\n",
    "with xopen(\"../scratch/paloma_c4_100_domains_val/val_34_github.com.jsonl.gz\", \"r\") as in_file:\n",
    "    for line in in_file:\n",
    "        obj = json.loads(line)\n",
    "        obj_list.append(obj)"
   ]
  },
  {
   "cell_type": "code",
   "execution_count": 11,
   "id": "aa8222c5-bd3c-4893-a716-5602c2d8fe17",
   "metadata": {
    "execution": {
     "iopub.execute_input": "2024-05-27T21:52:08.855143Z",
     "iopub.status.busy": "2024-05-27T21:52:08.854441Z",
     "iopub.status.idle": "2024-05-27T21:52:08.868202Z",
     "shell.execute_reply": "2024-05-27T21:52:08.867809Z",
     "shell.execute_reply.started": "2024-05-27T21:52:08.855106Z"
    }
   },
   "outputs": [],
   "source": [
    "obj = obj_list[random.randrange(len(obj_list))]"
   ]
  },
  {
   "cell_type": "code",
   "execution_count": 12,
   "id": "bea6513d-6ce2-4a41-b03b-f1d1a091d0cd",
   "metadata": {
    "execution": {
     "iopub.execute_input": "2024-05-27T21:52:09.400468Z",
     "iopub.status.busy": "2024-05-27T21:52:09.399790Z",
     "iopub.status.idle": "2024-05-27T21:52:09.412318Z",
     "shell.execute_reply": "2024-05-27T21:52:09.411984Z",
     "shell.execute_reply.started": "2024-05-27T21:52:09.400432Z"
    },
    "scrolled": true
   },
   "outputs": [
    {
     "data": {
      "text/plain": [
       "dict_keys(['text', 'id', 'added', 'source', 'subdomain'])"
      ]
     },
     "execution_count": 12,
     "metadata": {},
     "output_type": "execute_result"
    }
   ],
   "source": [
    "obj.keys()"
   ]
  },
  {
   "cell_type": "code",
   "execution_count": 14,
   "id": "2d27d740-2276-4e92-a23d-8ff2387f1a1d",
   "metadata": {
    "execution": {
     "iopub.execute_input": "2024-05-27T22:35:01.263534Z",
     "iopub.status.busy": "2024-05-27T22:35:01.263060Z",
     "iopub.status.idle": "2024-05-27T22:35:01.279587Z",
     "shell.execute_reply": "2024-05-27T22:35:01.279259Z",
     "shell.execute_reply.started": "2024-05-27T22:35:01.263495Z"
    }
   },
   "outputs": [
    {
     "data": {
      "text/plain": [
       "'GOGCCFLAGS=\"-fPIC -m64 -pthread -fno-caret-diagnostics -Qunused-arguments -fmessage-length=0 -fdebug-prefix-map=/tmp/go-build741696436=/tmp/go-build -gno-record-gcc-switches\"\\ngo modules downloaded and binary is built.\\nthen go install works as expected.\\nI can confirm that this is happening to me as well. It is not 100% constant. My docker builds experience it about 98% of the time.\\nA git fetch seems to fix it.\\nSame issues with go 1.11.5, 1.11.8, 1.12.3 in Docker (golang:1.12.3), and installed locally on Ubuntu.\\nReproduced locally with the same error.\\nPerhaps Gerrit is acting up again?\\nI\\'ve traced this to a sequence of Git commands that reproduces this issue outside of Go. The Gerrit team has been notified and is working to resolve the issue.\\nIs it some workaround for the problem?\\nThe latest we have from the Gerrit team is that this might be a bug specific to the content of the google.golang.org/api repository. As suggested above, a git fetch should work around it. I think fetching a different version might help too.\\nYes. Second running also helps, but it very ugly hack. I added vendor dir to my projects. It looks like better workaround.\\nHello, this is the team that manages googlesource.com. *.googlesource.com is hosted by using JGit, and we believe that there\\'s a bug in upstream JGit that cannot handle unshallow git-fetch. We recognize that this is reproducible easily, but we cannot spot the buggy code in the JGit. If there\\'s an option to do a full clone always instead of partial clone, that can be a workaround.\\nWe identified the root cause and the fix is uploaded at https://git.eclipse.org/r/c/140463/. Our in-house JGit comitters are already gone home, so this will be reviewed tomorrow at best. If everything goes well and our SREs are happy about a Friday release, we might be able to cherry-pick this fix tomorrow. The worst case ETA would be next week.\\nThat did the trick. If it happens again, we want to know.\\nStill doesnt work for me.\\nI\\'ve tried to reproduce this again, and it\\'s now working for me.\\n@chmking @mr-tron Are you able to reproduce this with a clean module cache using the original instructions at the top of the issue? Could you post the output of go install -x go.chromium.org/goma/server/cmd/remoteexec_proxy with the failure? The -x flag should show the git commands run in each vcs cache, so that will help us isolate the issue.\\n@jayconrod This is happening on our CI machines running the build in a docker without a go mod cache. It worked this morning without fail many times until it started failing at the time of my post. Now the issues is intermittent.\\nI can try to replicate it for you later.\\nIs there a workaround for go get? I am unable to develop.\\nEdit: I skipped over the workaround.\\nPlease see the first comment for the workaround.\\njayconrod\\'s case can be fixed by https://git.eclipse.org/r/c/140618/. I\\'m not sure if this covers other people\\'s cases.\\nThe Gerrit team says the fix is fully rolled out now. Please let us know if you\\'re still seeing these symptoms.\\nThe fix works for our case thanks!\\n@bcmills Issue still happens with docker build.\\nAre their new reproduction steps for the remaining failure(s)?\\nSorry that this has been a session of whack-a-mole. Shallow clones make the server operate on the truncated history that a client is holding, which is a cross-cutting concern involving many different code paths and exposing a lot of corner cases.\\nIf we can get clients to use partial clones (https://www.git-scm.com/docs/partial-clone) instead of shallow clones, where the partial clones pull down all history and tree objects, we are back to much more well worn and tested paths on the server.\\nI haven\\'t isolated the issue to a smaller reproducible step, but this is a starting point.\\nThe Dockerfile also uses the Alpine Linux image variant for Go 1.12.\\nI suspect Docker build layer caching is biting you. Disable the cache once and try again.\\nI\\'m using the latest Alpine Linux variant for Go 1.12.\\nIt doesn\\'t seem like a docker build cache issue as the build also fails in TravisCI.\\nI\\'ve included the command output with docker build --no-cache below. The error is near the bottom.\\nremote: Enumerating objects: 3942, done.\\nReceiving objects: 100% (3942/3942), 905.78 KiB | 2.41 MiB/s, done.\\nResolving deltas: 100% (2334/2334), done.\\n$ docker build --no-cache .\\nStep 7/14 : ENV DATABASES=\"postgres mysql redshift cassandra spanner cockroachdb clickhouse mongodb\"\\nStep 8/14 : ENV SOURCES=\"file go_bindata github aws_s3 google_cloud_storage gitlab\"\\nMaybe it\\'s an issue w/ the alpine linux 3.9 version of git (v2.20.1-r0)?\\nLocal builds (on Mac OS X with git 2.21.0) succeed.\\n@dhui, that all worked for me, though. Does it always fail for you, or just sometimes?\\nDoes it always fail for you, or just sometimes?\\nIt\\'s always failed for me. On TravisCI, it failed 2/2 times and when running locally in docker, it failed 5/5 times. The missing tree object varies between runs though.\\nOkay, on my second try it also fails for me.\\n@draftcode, is someone on the Gerrit side looking into this?\\nI found another bug in JGit code that made it exclude dcbf3e3c23816703a8f5ebfe6583cc3fc2793526. But after I fix that, I found another bug that doesn\\'t send a parent of v0.1.0. I\\'m debugging JGit more.\\nhttps://git.eclipse.org/r/c/140900/ and https://git.eclipse.org/r/c/140901/ will fix the the three tag unshallow case. Tried all three previously reproduced cases.\\nStill seems to be happening. Pinged internal bug.\\n#31399 (comment) is not rolled out yet.\\nOops, I thought those CLs had been deployed already.\\n@draftcode Do you expect this will fix the GOPATH=/tmp/go GO111MODULE=on go install go.chromium.org/goma/server/cmd/remoteexec_proxy command from the original example?'"
      ]
     },
     "execution_count": 14,
     "metadata": {},
     "output_type": "execute_result"
    }
   ],
   "source": [
    "obj[\"text\"]"
   ]
  },
  {
   "cell_type": "code",
   "execution_count": 20,
   "id": "19be042c-0d5f-46fb-a7ff-77a60c4b25d7",
   "metadata": {
    "execution": {
     "iopub.execute_input": "2024-05-27T02:39:36.254881Z",
     "iopub.status.busy": "2024-05-27T02:39:36.254432Z",
     "iopub.status.idle": "2024-05-27T02:39:36.267286Z",
     "shell.execute_reply": "2024-05-27T02:39:36.266941Z",
     "shell.execute_reply.started": "2024-05-27T02:39:36.254849Z"
    }
   },
   "outputs": [
    {
     "data": {
      "text/plain": [
       "'bb93185a-cdc7-42a6-8195-df9ebeafd360'"
      ]
     },
     "execution_count": 20,
     "metadata": {},
     "output_type": "execute_result"
    }
   ],
   "source": [
    "obj[\"id\"]"
   ]
  },
  {
   "cell_type": "code",
   "execution_count": 21,
   "id": "309ab81f-1a98-4435-8ebe-2958e54ce873",
   "metadata": {
    "execution": {
     "iopub.execute_input": "2024-05-27T02:39:43.894526Z",
     "iopub.status.busy": "2024-05-27T02:39:43.894073Z",
     "iopub.status.idle": "2024-05-27T02:39:43.907538Z",
     "shell.execute_reply": "2024-05-27T02:39:43.907175Z",
     "shell.execute_reply.started": "2024-05-27T02:39:43.894493Z"
    }
   },
   "outputs": [
    {
     "data": {
      "text/plain": [
       "'2023-04-01T00:16:27.393489+00:00'"
      ]
     },
     "execution_count": 21,
     "metadata": {},
     "output_type": "execute_result"
    }
   ],
   "source": [
    "obj[\"added\"]"
   ]
  },
  {
   "cell_type": "code",
   "execution_count": 22,
   "id": "7684447d-6175-4971-8bba-85e0cc295fe0",
   "metadata": {
    "execution": {
     "iopub.execute_input": "2024-05-27T02:39:51.191542Z",
     "iopub.status.busy": "2024-05-27T02:39:51.191104Z",
     "iopub.status.idle": "2024-05-27T02:39:51.204201Z",
     "shell.execute_reply": "2024-05-27T02:39:51.203868Z",
     "shell.execute_reply.started": "2024-05-27T02:39:51.191509Z"
    }
   },
   "outputs": [
    {
     "data": {
      "text/plain": [
       "'c4_100_domains'"
      ]
     },
     "execution_count": 22,
     "metadata": {},
     "output_type": "execute_result"
    }
   ],
   "source": [
    "obj[\"source\"]"
   ]
  },
  {
   "cell_type": "code",
   "execution_count": 23,
   "id": "ae564f1d-77c1-426a-946a-0b2cab12b074",
   "metadata": {
    "execution": {
     "iopub.execute_input": "2024-05-27T02:39:58.588501Z",
     "iopub.status.busy": "2024-05-27T02:39:58.588089Z",
     "iopub.status.idle": "2024-05-27T02:39:58.600519Z",
     "shell.execute_reply": "2024-05-27T02:39:58.600191Z",
     "shell.execute_reply.started": "2024-05-27T02:39:58.588468Z"
    }
   },
   "outputs": [
    {
     "data": {
      "text/plain": [
       "'100_www.ign.com'"
      ]
     },
     "execution_count": 23,
     "metadata": {},
     "output_type": "execute_result"
    }
   ],
   "source": [
    "obj[\"subdomain\"]"
   ]
  },
  {
   "cell_type": "markdown",
   "id": "d7d94918-b40d-4930-9154-ab3fae87dddf",
   "metadata": {},
   "source": [
    "# tokenized"
   ]
  },
  {
   "cell_type": "code",
   "execution_count": 25,
   "id": "947851dd-9c67-416d-9dc0-f97d7bf9a600",
   "metadata": {
    "execution": {
     "iopub.execute_input": "2024-05-27T03:05:07.578537Z",
     "iopub.status.busy": "2024-05-27T03:05:07.577825Z",
     "iopub.status.idle": "2024-05-27T03:05:07.590137Z",
     "shell.execute_reply": "2024-05-27T03:05:07.589720Z",
     "shell.execute_reply.started": "2024-05-27T03:05:07.578501Z"
    }
   },
   "outputs": [],
   "source": [
    "PALOMA_BIN = \"../scratch/paloma_c4_100_domains_val_tokenized.bin\""
   ]
  },
  {
   "cell_type": "code",
   "execution_count": 26,
   "id": "c942ccf3-1675-42f6-bf17-f32471f86901",
   "metadata": {
    "execution": {
     "iopub.execute_input": "2024-05-27T03:05:38.854017Z",
     "iopub.status.busy": "2024-05-27T03:05:38.853448Z",
     "iopub.status.idle": "2024-05-27T03:05:38.867250Z",
     "shell.execute_reply": "2024-05-27T03:05:38.866818Z",
     "shell.execute_reply.started": "2024-05-27T03:05:38.853981Z"
    }
   },
   "outputs": [],
   "source": [
    "data = np.memmap(PALOMA_BIN, dtype=np.uint16, mode=\"r\")"
   ]
  },
  {
   "cell_type": "code",
   "execution_count": 29,
   "id": "5afeeefd-b634-434d-9196-c0fdfeebdf32",
   "metadata": {
    "execution": {
     "iopub.execute_input": "2024-05-27T03:06:04.178303Z",
     "iopub.status.busy": "2024-05-27T03:06:04.177819Z",
     "iopub.status.idle": "2024-05-27T03:06:04.190715Z",
     "shell.execute_reply": "2024-05-27T03:06:04.190359Z",
     "shell.execute_reply.started": "2024-05-27T03:06:04.178268Z"
    }
   },
   "outputs": [
    {
     "data": {
      "text/plain": [
       "'9_761_402'"
      ]
     },
     "execution_count": 29,
     "metadata": {},
     "output_type": "execute_result"
    }
   ],
   "source": [
    "f\"{len(data):_}\""
   ]
  },
  {
   "cell_type": "markdown",
   "id": "dd7d134b-2c8c-4994-934a-e458c795d3b7",
   "metadata": {
    "execution": {
     "iopub.execute_input": "2024-05-27T03:59:25.307561Z",
     "iopub.status.busy": "2024-05-27T03:59:25.306967Z",
     "iopub.status.idle": "2024-05-27T03:59:25.320514Z",
     "shell.execute_reply": "2024-05-27T03:59:25.320145Z",
     "shell.execute_reply.started": "2024-05-27T03:59:25.307526Z"
    }
   },
   "source": [
    "# replicate"
   ]
  },
  {
   "cell_type": "code",
   "execution_count": 35,
   "id": "69d44276-dacc-429d-b371-b6861f81e7ee",
   "metadata": {
    "execution": {
     "iopub.execute_input": "2024-05-27T04:04:38.476040Z",
     "iopub.status.busy": "2024-05-27T04:04:38.475594Z",
     "iopub.status.idle": "2024-05-27T04:04:41.271581Z",
     "shell.execute_reply": "2024-05-27T04:04:41.270803Z",
     "shell.execute_reply.started": "2024-05-27T04:04:38.476006Z"
    }
   },
   "outputs": [
    {
     "name": "stderr",
     "output_type": "stream",
     "text": [
      "paloma: 100%|████████████████████████| 99/99 [00:02<00:00, 40.56it/s]\n"
     ]
    },
    {
     "data": {
      "text/plain": [
       "CompletedProcess(args='python -m lb.scripts.extract_paloma --paloma_dir ../scratch/paloma_c4_100_domains_val --text_dir ../scratch/text/paloma', returncode=0)"
      ]
     },
     "execution_count": 35,
     "metadata": {},
     "output_type": "execute_result"
    }
   ],
   "source": [
    "cmd = (\n",
    "    f\"python -m lb.scripts.extract_paloma \"\n",
    "    f\"--paloma_dir ../scratch/paloma_c4_100_domains_val \"\n",
    "    f\"--text_dir ../scratch/text/paloma\"\n",
    ")\n",
    "subprocess.run(cmd, shell=True)"
   ]
  },
  {
   "cell_type": "code",
   "execution_count": 54,
   "id": "6cfc78f1-152b-425b-a100-aa3d87e11a59",
   "metadata": {
    "execution": {
     "iopub.execute_input": "2024-05-27T04:17:23.836636Z",
     "iopub.status.busy": "2024-05-27T04:17:23.836156Z",
     "iopub.status.idle": "2024-05-27T04:17:59.153294Z",
     "shell.execute_reply": "2024-05-27T04:17:59.152264Z",
     "shell.execute_reply.started": "2024-05-27T04:17:23.836566Z"
    }
   },
   "outputs": [
    {
     "name": "stderr",
     "output_type": "stream",
     "text": [
      "text_files:   0%|                          | 0/14059 [00:00<?, ?it/s]Token indices sequence length is longer than the specified maximum sequence length for this model (1077 > 1024). Running this sequence through the model will result in indexing errors\n",
      "text_files: 100%|█████████████| 14059/14059 [00:32<00:00, 429.68it/s]\n"
     ]
    },
    {
     "data": {
      "text/plain": [
       "CompletedProcess(args='python -m lb.scripts.tokenize --text_dir ../scratch/text/paloma --tokens_file ../scratch/tokenized/paloma.bin', returncode=0)"
      ]
     },
     "execution_count": 54,
     "metadata": {},
     "output_type": "execute_result"
    }
   ],
   "source": [
    "cmd = (\n",
    "    f\"python -m lb.scripts.tokenize \"\n",
    "    f\"--text_dir ../scratch/text/paloma \"\n",
    "    f\"--tokens_file ../scratch/tokenized/paloma.bin\"\n",
    ")\n",
    "subprocess.run(cmd, shell=True)"
   ]
  },
  {
   "cell_type": "code",
   "execution_count": 61,
   "id": "072677d3-d1e1-4562-8ac6-4df4b61ca427",
   "metadata": {
    "execution": {
     "iopub.execute_input": "2024-05-27T04:19:44.484749Z",
     "iopub.status.busy": "2024-05-27T04:19:44.484184Z",
     "iopub.status.idle": "2024-05-27T04:19:44.499089Z",
     "shell.execute_reply": "2024-05-27T04:19:44.498410Z",
     "shell.execute_reply.started": "2024-05-27T04:19:44.484713Z"
    }
   },
   "outputs": [],
   "source": [
    "arr_want = np.memmap(\n",
    "    \"../scratch/paloma_c4_100_domains_val_tokenized.bin\", dtype=np.uint16, mode=\"r\"\n",
    ")"
   ]
  },
  {
   "cell_type": "code",
   "execution_count": 62,
   "id": "f340992f-9802-4696-a90b-eecc1a233376",
   "metadata": {
    "execution": {
     "iopub.execute_input": "2024-05-27T04:19:52.316367Z",
     "iopub.status.busy": "2024-05-27T04:19:52.315959Z",
     "iopub.status.idle": "2024-05-27T04:19:52.338335Z",
     "shell.execute_reply": "2024-05-27T04:19:52.337974Z",
     "shell.execute_reply.started": "2024-05-27T04:19:52.316334Z"
    }
   },
   "outputs": [],
   "source": [
    "arr_have = np.memmap(\"../scratch/tokenized/paloma.bin\", dtype=np.uint16, mode=\"r\")"
   ]
  },
  {
   "cell_type": "code",
   "execution_count": 63,
   "id": "4cbfc410-d130-4801-9b87-eaaf502fbbd2",
   "metadata": {
    "execution": {
     "iopub.execute_input": "2024-05-27T04:20:02.065271Z",
     "iopub.status.busy": "2024-05-27T04:20:02.064854Z",
     "iopub.status.idle": "2024-05-27T04:20:02.079847Z",
     "shell.execute_reply": "2024-05-27T04:20:02.079230Z",
     "shell.execute_reply.started": "2024-05-27T04:20:02.065237Z"
    }
   },
   "outputs": [
    {
     "data": {
      "text/plain": [
       "9761402"
      ]
     },
     "execution_count": 63,
     "metadata": {},
     "output_type": "execute_result"
    }
   ],
   "source": [
    "len(arr_want)"
   ]
  },
  {
   "cell_type": "code",
   "execution_count": 64,
   "id": "6628cb4a-bdca-42e9-a516-33c5fbfc756e",
   "metadata": {
    "execution": {
     "iopub.execute_input": "2024-05-27T04:20:03.291710Z",
     "iopub.status.busy": "2024-05-27T04:20:03.291287Z",
     "iopub.status.idle": "2024-05-27T04:20:03.306505Z",
     "shell.execute_reply": "2024-05-27T04:20:03.306147Z",
     "shell.execute_reply.started": "2024-05-27T04:20:03.291677Z"
    }
   },
   "outputs": [
    {
     "data": {
      "text/plain": [
       "9761402"
      ]
     },
     "execution_count": 64,
     "metadata": {},
     "output_type": "execute_result"
    }
   ],
   "source": [
    "len(arr_have)"
   ]
  },
  {
   "cell_type": "code",
   "execution_count": 65,
   "id": "ac7dc6e6-811e-4da4-9d9e-149e56c898dd",
   "metadata": {
    "execution": {
     "iopub.execute_input": "2024-05-27T04:20:04.883871Z",
     "iopub.status.busy": "2024-05-27T04:20:04.883496Z",
     "iopub.status.idle": "2024-05-27T04:20:04.897483Z",
     "shell.execute_reply": "2024-05-27T04:20:04.897108Z",
     "shell.execute_reply.started": "2024-05-27T04:20:04.883838Z"
    }
   },
   "outputs": [
    {
     "data": {
      "text/plain": [
       "memmap([ 3666,  3656,   290, ...,   767,    13, 50256], dtype=uint16)"
      ]
     },
     "execution_count": 65,
     "metadata": {},
     "output_type": "execute_result"
    }
   ],
   "source": [
    "arr_want"
   ]
  },
  {
   "cell_type": "code",
   "execution_count": 66,
   "id": "1e01f1ed-95a7-48a5-9f2f-e82174364096",
   "metadata": {
    "execution": {
     "iopub.execute_input": "2024-05-27T04:20:06.326004Z",
     "iopub.status.busy": "2024-05-27T04:20:06.325625Z",
     "iopub.status.idle": "2024-05-27T04:20:06.339741Z",
     "shell.execute_reply": "2024-05-27T04:20:06.339150Z",
     "shell.execute_reply.started": "2024-05-27T04:20:06.325972Z"
    }
   },
   "outputs": [
    {
     "data": {
      "text/plain": [
       "memmap([15905,   447,   247, ...,  4621,    13, 50256], dtype=uint16)"
      ]
     },
     "execution_count": 66,
     "metadata": {},
     "output_type": "execute_result"
    }
   ],
   "source": [
    "arr_have"
   ]
  },
  {
   "cell_type": "code",
   "execution_count": 68,
   "id": "415e47b9-936e-46db-b775-889463fec2fc",
   "metadata": {
    "execution": {
     "iopub.execute_input": "2024-05-27T04:22:26.085500Z",
     "iopub.status.busy": "2024-05-27T04:22:26.085072Z",
     "iopub.status.idle": "2024-05-27T04:22:26.108988Z",
     "shell.execute_reply": "2024-05-27T04:22:26.108566Z",
     "shell.execute_reply.started": "2024-05-27T04:22:26.085465Z"
    }
   },
   "outputs": [
    {
     "data": {
      "text/plain": [
       "44563429315"
      ]
     },
     "execution_count": 68,
     "metadata": {},
     "output_type": "execute_result"
    }
   ],
   "source": [
    "arr_want.sum()"
   ]
  },
  {
   "cell_type": "code",
   "execution_count": 69,
   "id": "9d57295c-3b54-4064-8a7b-6d54c46ce698",
   "metadata": {
    "execution": {
     "iopub.execute_input": "2024-05-27T04:22:31.667259Z",
     "iopub.status.busy": "2024-05-27T04:22:31.666829Z",
     "iopub.status.idle": "2024-05-27T04:22:31.685263Z",
     "shell.execute_reply": "2024-05-27T04:22:31.684833Z",
     "shell.execute_reply.started": "2024-05-27T04:22:31.667224Z"
    }
   },
   "outputs": [
    {
     "data": {
      "text/plain": [
       "44563429315"
      ]
     },
     "execution_count": 69,
     "metadata": {},
     "output_type": "execute_result"
    }
   ],
   "source": [
    "arr_have.sum()"
   ]
  },
  {
   "cell_type": "markdown",
   "id": "8241792c-fffb-4407-9c07-06629f6d573f",
   "metadata": {},
   "source": [
    "^ equivalent upto ordering of documents"
   ]
  },
  {
   "cell_type": "code",
   "execution_count": null,
   "id": "a4f62d59-24ac-4ee0-b93b-ea38c57ed22a",
   "metadata": {},
   "outputs": [],
   "source": []
  }
 ],
 "metadata": {
  "kernelspec": {
   "display_name": "Python 3 (ipykernel)",
   "language": "python",
   "name": "python3"
  },
  "language_info": {
   "codemirror_mode": {
    "name": "ipython",
    "version": 3
   },
   "file_extension": ".py",
   "mimetype": "text/x-python",
   "name": "python",
   "nbconvert_exporter": "python",
   "pygments_lexer": "ipython3",
   "version": "3.10.14"
  }
 },
 "nbformat": 4,
 "nbformat_minor": 5
}
