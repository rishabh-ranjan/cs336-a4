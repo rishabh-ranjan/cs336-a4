{
 "cells": [
  {
   "cell_type": "code",
   "execution_count": 11,
   "id": "8f55b8a8-925a-400d-996b-437b808f3908",
   "metadata": {
    "execution": {
     "iopub.execute_input": "2024-05-31T02:41:34.590138Z",
     "iopub.status.busy": "2024-05-31T02:41:34.589693Z",
     "iopub.status.idle": "2024-05-31T02:41:34.935769Z",
     "shell.execute_reply": "2024-05-31T02:41:34.934888Z",
     "shell.execute_reply.started": "2024-05-31T02:41:34.590104Z"
    }
   },
   "outputs": [],
   "source": [
    "import matplotlib.pyplot as plt\n",
    "import numpy as np"
   ]
  },
  {
   "cell_type": "code",
   "execution_count": 2,
   "id": "0f223905-742c-48f3-911b-814cc9fe4741",
   "metadata": {
    "execution": {
     "iopub.execute_input": "2024-05-31T02:34:38.977025Z",
     "iopub.status.busy": "2024-05-31T02:34:38.976525Z",
     "iopub.status.idle": "2024-05-31T02:34:38.989829Z",
     "shell.execute_reply": "2024-05-31T02:34:38.989188Z",
     "shell.execute_reply.started": "2024-05-31T02:34:38.976990Z"
    }
   },
   "outputs": [],
   "source": [
    "hash_count_file = \"/dev/shm/cc/hash_count_255.bin\""
   ]
  },
  {
   "cell_type": "code",
   "execution_count": 6,
   "id": "8bd1c410-2aa8-4370-9a4a-ce0051e00246",
   "metadata": {
    "execution": {
     "iopub.execute_input": "2024-05-31T02:40:19.485282Z",
     "iopub.status.busy": "2024-05-31T02:40:19.484839Z",
     "iopub.status.idle": "2024-05-31T02:40:20.318715Z",
     "shell.execute_reply": "2024-05-31T02:40:20.318056Z",
     "shell.execute_reply.started": "2024-05-31T02:40:19.485246Z"
    }
   },
   "outputs": [],
   "source": [
    "hash_count = np.fromfile(hash_count_file, dtype=np.uint8)"
   ]
  },
  {
   "cell_type": "code",
   "execution_count": 7,
   "id": "8e5e19a1-2692-4b3a-8b39-0e414895b837",
   "metadata": {
    "execution": {
     "iopub.execute_input": "2024-05-31T02:40:24.563259Z",
     "iopub.status.busy": "2024-05-31T02:40:24.562834Z",
     "iopub.status.idle": "2024-05-31T02:40:24.580132Z",
     "shell.execute_reply": "2024-05-31T02:40:24.579351Z",
     "shell.execute_reply.started": "2024-05-31T02:40:24.563223Z"
    }
   },
   "outputs": [
    {
     "data": {
      "text/plain": [
       "array([1, 0, 6, ..., 1, 1, 0], dtype=uint8)"
      ]
     },
     "execution_count": 7,
     "metadata": {},
     "output_type": "execute_result"
    }
   ],
   "source": [
    "hash_count"
   ]
  },
  {
   "cell_type": "code",
   "execution_count": 10,
   "id": "80071241-5415-481c-b073-e63702f83ac0",
   "metadata": {
    "execution": {
     "iopub.execute_input": "2024-05-31T02:41:17.630398Z",
     "iopub.status.busy": "2024-05-31T02:41:17.629951Z",
     "iopub.status.idle": "2024-05-31T02:41:26.309694Z",
     "shell.execute_reply": "2024-05-31T02:41:26.308173Z",
     "shell.execute_reply.started": "2024-05-31T02:41:17.630363Z"
    }
   },
   "outputs": [],
   "source": [
    "bin_count = np.bincount(hash_count)"
   ]
  },
  {
   "cell_type": "code",
   "execution_count": 31,
   "id": "3f2e5c36-1104-4868-bbb6-003b06415385",
   "metadata": {
    "execution": {
     "iopub.execute_input": "2024-05-31T03:22:46.211519Z",
     "iopub.status.busy": "2024-05-31T03:22:46.211254Z",
     "iopub.status.idle": "2024-05-31T03:22:48.109025Z",
     "shell.execute_reply": "2024-05-31T03:22:48.108370Z",
     "shell.execute_reply.started": "2024-05-31T03:22:46.211499Z"
    }
   },
   "outputs": [],
   "source": [
    "import expt"
   ]
  },
  {
   "cell_type": "code",
   "execution_count": 35,
   "id": "eb8192ea-f6b3-4ad1-a705-45d4b5ba36d4",
   "metadata": {
    "execution": {
     "iopub.execute_input": "2024-05-31T03:37:06.431945Z",
     "iopub.status.busy": "2024-05-31T03:37:06.431520Z",
     "iopub.status.idle": "2024-05-31T03:37:06.855014Z",
     "shell.execute_reply": "2024-05-31T03:37:06.854426Z",
     "shell.execute_reply.started": "2024-05-31T03:37:06.431910Z"
    }
   },
   "outputs": [
    {
     "data": {
      "image/png": "[encoded data removed]",
      "text/plain": [
       "<Figure size 431.75x431.75 with 1 Axes>"
      ]
     },
     "metadata": {},
     "output_type": "display_data"
    }
   ],
   "source": [
    "fig, ax = plt.subplots(figsize=(expt.LINE/2, expt.LINE/2))\n",
    "ax.plot(np.arange(256)[1:-1], bin_count[1:-1], marker=\"|\")\n",
    "ax.set_xscale(\"log\")\n",
    "ax.set_yscale(\"log\")\n",
    "ax.set_xlabel(\"#repeats\")\n",
    "ax.set_ylabel(\"#lines\")\n",
    "ax.set_title(\"line repetition follows a power law\")\n",
    "fig.show()"
   ]
  },
  {
   "cell_type": "code",
   "execution_count": 24,
   "id": "d12166c3-95e9-43fd-8dc2-d7ee28c20f3b",
   "metadata": {
    "execution": {
     "iopub.execute_input": "2024-05-31T03:07:48.507523Z",
     "iopub.status.busy": "2024-05-31T03:07:48.507107Z",
     "iopub.status.idle": "2024-05-31T03:07:48.520408Z",
     "shell.execute_reply": "2024-05-31T03:07:48.520059Z",
     "shell.execute_reply.started": "2024-05-31T03:07:48.507489Z"
    }
   },
   "outputs": [
    {
     "data": {
      "text/plain": [
       "'1.8e+09'"
      ]
     },
     "execution_count": 24,
     "metadata": {},
     "output_type": "execute_result"
    }
   ],
   "source": [
    "f\"{bin_count[0]:.1e}\""
   ]
  },
  {
   "cell_type": "code",
   "execution_count": 28,
   "id": "d27490d8-c4fc-4f99-94c4-1bedc8ce7383",
   "metadata": {
    "execution": {
     "iopub.execute_input": "2024-05-31T03:19:42.558892Z",
     "iopub.status.busy": "2024-05-31T03:19:42.558337Z",
     "iopub.status.idle": "2024-05-31T03:19:42.572385Z",
     "shell.execute_reply": "2024-05-31T03:19:42.572035Z",
     "shell.execute_reply.started": "2024-05-31T03:19:42.558856Z"
    }
   },
   "outputs": [
    {
     "data": {
      "text/plain": [
       "'1.2e+09'"
      ]
     },
     "execution_count": 28,
     "metadata": {},
     "output_type": "execute_result"
    }
   ],
   "source": [
    "f\"{bin_count[1]:.1e}\""
   ]
  },
  {
   "cell_type": "code",
   "execution_count": null,
   "id": "f5f5f882-c7d7-4796-8a0d-32bcae65a59d",
   "metadata": {},
   "outputs": [],
   "source": []
  }
 ],
 "metadata": {
  "kernelspec": {
   "display_name": "Python 3 (ipykernel)",
   "language": "python",
   "name": "python3"
  },
  "language_info": {
   "codemirror_mode": {
    "name": "ipython",
    "version": 3
   },
   "file_extension": ".py",
   "mimetype": "text/x-python",
   "name": "python",
   "nbconvert_exporter": "python",
   "pygments_lexer": "ipython3",
   "version": "3.10.14"
  }
 },
 "nbformat": 4,
 "nbformat_minor": 5
}
