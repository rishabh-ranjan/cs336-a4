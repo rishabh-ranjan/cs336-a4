{
 "cells": [
  {
   "cell_type": "code",
   "execution_count": 53,
   "id": "88126f06-4537-4ae9-a555-8e75c9fb75f5",
   "metadata": {
    "execution": {
     "iopub.execute_input": "2024-05-19T04:07:48.393480Z",
     "iopub.status.busy": "2024-05-19T04:07:48.393054Z",
     "iopub.status.idle": "2024-05-19T04:07:50.575651Z",
     "shell.execute_reply": "2024-05-19T04:07:50.574758Z",
     "shell.execute_reply.started": "2024-05-19T04:07:48.393445Z"
    }
   },
   "outputs": [],
   "source": [
    "import pandas as pd\n",
    "from cs336_data.identify import identify_language\n",
    "from tqdm.auto import tqdm\n",
    "import matplotlib.pyplot as plt"
   ]
  },
  {
   "cell_type": "code",
   "execution_count": 2,
   "id": "f84d58e9-ccbc-48e4-8bde-21617b9230c9",
   "metadata": {
    "execution": {
     "iopub.execute_input": "2024-05-19T02:56:43.018823Z",
     "iopub.status.busy": "2024-05-19T02:56:43.018318Z",
     "iopub.status.idle": "2024-05-19T02:56:43.032012Z",
     "shell.execute_reply": "2024-05-19T02:56:43.031649Z",
     "shell.execute_reply.started": "2024-05-19T02:56:43.018786Z"
    }
   },
   "outputs": [],
   "source": [
    "model_path = \"../data/lid.176.bin\""
   ]
  },
  {
   "cell_type": "code",
   "execution_count": 22,
   "id": "3a7b91fa-75d1-4087-9e98-d3756788b60f",
   "metadata": {
    "execution": {
     "iopub.execute_input": "2024-05-19T03:24:36.613736Z",
     "iopub.status.busy": "2024-05-19T03:24:36.613300Z",
     "iopub.status.idle": "2024-05-19T03:24:36.628374Z",
     "shell.execute_reply": "2024-05-19T03:24:36.627702Z",
     "shell.execute_reply.started": "2024-05-19T03:24:36.613702Z"
    }
   },
   "outputs": [],
   "source": [
    "manual_lang_ids = [\n",
    "    \"\",\n",
    "    \"en\",\n",
    "    \"en\",\n",
    "    \"zh\",\n",
    "    \"it\",\n",
    "    \"en\",\n",
    "    \"nl\",\n",
    "    \"ru\",\n",
    "    \"nl\",\n",
    "    \"zh\",\n",
    "    \"zh\",\n",
    "    \"zh\",\n",
    "    \"en\",\n",
    "    \"zh\",\n",
    "    \"zh\",\n",
    "    \"zh\",\n",
    "    \"zh\",\n",
    "    \"zh\",\n",
    "    \"zh\",\n",
    "    \"zh\",\n",
    "    \"fr\",\n",
    "    \"en\",\n",
    "    \"ru\",\n",
    "    \"fr\",\n",
    "    \"fr\",\n",
    "    \"fa\",\n",
    "    \"it\",\n",
    "]"
   ]
  },
  {
   "cell_type": "code",
   "execution_count": 37,
   "id": "3e6f5566-1a11-40a7-aeee-c026ad423966",
   "metadata": {
    "execution": {
     "iopub.execute_input": "2024-05-19T03:42:51.091627Z",
     "iopub.status.busy": "2024-05-19T03:42:51.091198Z",
     "iopub.status.idle": "2024-05-19T03:42:53.161778Z",
     "shell.execute_reply": "2024-05-19T03:42:53.160911Z",
     "shell.execute_reply.started": "2024-05-19T03:42:51.091592Z"
    }
   },
   "outputs": [
    {
     "data": {
      "text/html": [
       "<div>\n",
       "<style scoped>\n",
       "    .dataframe tbody tr th:only-of-type {\n",
       "        vertical-align: middle;\n",
       "    }\n",
       "\n",
       "    .dataframe tbody tr th {\n",
       "        vertical-align: top;\n",
       "    }\n",
       "\n",
       "    .dataframe thead th {\n",
       "        text-align: right;\n",
       "    }\n",
       "</style>\n",
       "<table border=\"1\" class=\"dataframe\">\n",
       "  <thead>\n",
       "    <tr style=\"text-align: right;\">\n",
       "      <th></th>\n",
       "      <th>#</th>\n",
       "      <th>Text (truncated)</th>\n",
       "      <th>Language (manual)</th>\n",
       "      <th>Language (fasttext)</th>\n",
       "      <th>Probability (fasttext)</th>\n",
       "    </tr>\n",
       "  </thead>\n",
       "  <tbody>\n",
       "    <tr>\n",
       "      <th>0</th>\n",
       "      <td>1</td>\n",
       "      <td>• Home\\n  • Categories\\n  • New\\n  • Popu</td>\n",
       "      <td>en</td>\n",
       "      <td>en</td>\n",
       "      <td>0.546</td>\n",
       "    </tr>\n",
       "    <tr>\n",
       "      <th>1</th>\n",
       "      <td>2</td>\n",
       "      <td>Sorry this model no exist in webcams onl</td>\n",
       "      <td>en</td>\n",
       "      <td>en</td>\n",
       "      <td>0.702</td>\n",
       "    </tr>\n",
       "    <tr>\n",
       "      <th>2</th>\n",
       "      <td>3</td>\n",
       "      <td>三元风水 神通玄空 家居风水 喜庆择日 起名改名 旺宅安神 转运法事 风水软件</td>\n",
       "      <td>zh</td>\n",
       "      <td>zh</td>\n",
       "      <td>0.963</td>\n",
       "    </tr>\n",
       "    <tr>\n",
       "      <th>3</th>\n",
       "      <td>4</td>\n",
       "      <td>Skip to content\\n\\nquello che è un fungo s</td>\n",
       "      <td>it</td>\n",
       "      <td>it</td>\n",
       "      <td>0.970</td>\n",
       "    </tr>\n",
       "    <tr>\n",
       "      <th>4</th>\n",
       "      <td>5</td>\n",
       "      <td>Search The Directory\\nSubmit URL  \\nHome &gt;</td>\n",
       "      <td>en</td>\n",
       "      <td>en</td>\n",
       "      <td>0.767</td>\n",
       "    </tr>\n",
       "    <tr>\n",
       "      <th>5</th>\n",
       "      <td>6</td>\n",
       "      <td>banner\\nbanner to be\\nterug naar e-spots.n</td>\n",
       "      <td>nl</td>\n",
       "      <td>nl</td>\n",
       "      <td>0.798</td>\n",
       "    </tr>\n",
       "    <tr>\n",
       "      <th>6</th>\n",
       "      <td>7</td>\n",
       "      <td>03 онлайн 03 Онлайн Задать вопрос Наши в</td>\n",
       "      <td>ru</td>\n",
       "      <td>ru</td>\n",
       "      <td>0.995</td>\n",
       "    </tr>\n",
       "    <tr>\n",
       "      <th>7</th>\n",
       "      <td>8</td>\n",
       "      <td>banner\\nbanner to be\\nterug naar e-spots.n</td>\n",
       "      <td>nl</td>\n",
       "      <td>nl</td>\n",
       "      <td>0.673</td>\n",
       "    </tr>\n",
       "    <tr>\n",
       "      <th>8</th>\n",
       "      <td>9</td>\n",
       "      <td>24HR客服專線:02-27654066  \\n　　\\n　\\n帳  號\\n密  碼\\n圖片</td>\n",
       "      <td>zh</td>\n",
       "      <td>zh</td>\n",
       "      <td>0.985</td>\n",
       "    </tr>\n",
       "    <tr>\n",
       "      <th>9</th>\n",
       "      <td>10</td>\n",
       "      <td>\\n客服留言\\n客服留言\\n\\n熱門關鍵字\\n 關鍵字\\n威而鋼 viagra 壯陽藥 犀利</td>\n",
       "      <td>zh</td>\n",
       "      <td>zh</td>\n",
       "      <td>0.985</td>\n",
       "    </tr>\n",
       "    <tr>\n",
       "      <th>10</th>\n",
       "      <td>11</td>\n",
       "      <td>首页我的欢畅玩家社区\\n登录注册\\n注销\\n网站导航\\n热门游戏\\n  • 炸裂骑士团\\n\\n</td>\n",
       "      <td>zh</td>\n",
       "      <td>zh</td>\n",
       "      <td>0.979</td>\n",
       "    </tr>\n",
       "    <tr>\n",
       "      <th>11</th>\n",
       "      <td>12</td>\n",
       "      <td></td>\n",
       "      <td>en</td>\n",
       "      <td>en</td>\n",
       "      <td>0.110</td>\n",
       "    </tr>\n",
       "    <tr>\n",
       "      <th>12</th>\n",
       "      <td>13</td>\n",
       "      <td>迷惑電話\\n\\n⇒ 電話番号から名前と住所の検索　　　 ⇒ 名前と地域から住所と電話</td>\n",
       "      <td>zh</td>\n",
       "      <td>ja</td>\n",
       "      <td>0.984</td>\n",
       "    </tr>\n",
       "    <tr>\n",
       "      <th>13</th>\n",
       "      <td>14</td>\n",
       "      <td>您好，欢迎光临必赢亚洲56电子游戏-必赢亚洲56.net！\\n\\n  • 服务热线</td>\n",
       "      <td>zh</td>\n",
       "      <td>zh</td>\n",
       "      <td>0.989</td>\n",
       "    </tr>\n",
       "    <tr>\n",
       "      <th>14</th>\n",
       "      <td>15</td>\n",
       "      <td>• 发布信息\\n  • 免费注册\\n  • 登录\\n  • 咨询热线：0755-2</td>\n",
       "      <td>zh</td>\n",
       "      <td>zh</td>\n",
       "      <td>0.956</td>\n",
       "    </tr>\n",
       "    <tr>\n",
       "      <th>15</th>\n",
       "      <td>16</td>\n",
       "      <td>RSS订阅 加入收藏  设为首页\\nyg老虎机_hb老虎机_电子游戏 _斗地主_【</td>\n",
       "      <td>zh</td>\n",
       "      <td>zh</td>\n",
       "      <td>0.914</td>\n",
       "    </tr>\n",
       "    <tr>\n",
       "      <th>16</th>\n",
       "      <td>17</td>\n",
       "      <td>按Ctrl + D,将蜗牛领券放入收藏夹，优惠券信息一手掌握！\\n\\n蜗牛领券\\n\\n</td>\n",
       "      <td>zh</td>\n",
       "      <td>zh</td>\n",
       "      <td>0.942</td>\n",
       "    </tr>\n",
       "    <tr>\n",
       "      <th>17</th>\n",
       "      <td>18</td>\n",
       "      <td>小门户+联盟 ·  产品网篇\\n关闭\\n\\n能源频道\\n\\n  • 燃料油\\n  • 汽油网</td>\n",
       "      <td>zh</td>\n",
       "      <td>zh</td>\n",
       "      <td>0.995</td>\n",
       "    </tr>\n",
       "    <tr>\n",
       "      <th>18</th>\n",
       "      <td>19</td>\n",
       "      <td>管家婆中特网\\n分享到：\\n更多\\n  • 管家婆中特网\\n\\n  • \\| 网站地图\\n</td>\n",
       "      <td>zh</td>\n",
       "      <td>zh</td>\n",
       "      <td>0.920</td>\n",
       "    </tr>\n",
       "    <tr>\n",
       "      <th>19</th>\n",
       "      <td>20</td>\n",
       "      <td>1/72 ème\\n\\n...un forum convivial consacré</td>\n",
       "      <td>fr</td>\n",
       "      <td>fr</td>\n",
       "      <td>0.985</td>\n",
       "    </tr>\n",
       "    <tr>\n",
       "      <th>20</th>\n",
       "      <td>21</td>\n",
       "      <td>[IMG_2684[1]]</td>\n",
       "      <td>en</td>\n",
       "      <td>he</td>\n",
       "      <td>0.276</td>\n",
       "    </tr>\n",
       "    <tr>\n",
       "      <th>21</th>\n",
       "      <td>22</td>\n",
       "      <td>100 porno ~ 100% ПОРНО!\\nНа сайте 100 por</td>\n",
       "      <td>ru</td>\n",
       "      <td>ru</td>\n",
       "      <td>0.965</td>\n",
       "    </tr>\n",
       "    <tr>\n",
       "      <th>22</th>\n",
       "      <td>23</td>\n",
       "      <td>retrouvez toutes les rimes de la langue</td>\n",
       "      <td>fr</td>\n",
       "      <td>fr</td>\n",
       "      <td>0.888</td>\n",
       "    </tr>\n",
       "    <tr>\n",
       "      <th>23</th>\n",
       "      <td>24</td>\n",
       "      <td>FAQ \\| Contact \\| S'identifier\\nlogo\\n  • So</td>\n",
       "      <td>fr</td>\n",
       "      <td>fr</td>\n",
       "      <td>0.946</td>\n",
       "    </tr>\n",
       "    <tr>\n",
       "      <th>24</th>\n",
       "      <td>25</td>\n",
       "      <td>﻿ UniDic برای اندروید\\n  • تبلیغات\\n  • وب</td>\n",
       "      <td>fa</td>\n",
       "      <td>fa</td>\n",
       "      <td>0.999</td>\n",
       "    </tr>\n",
       "  </tbody>\n",
       "</table>\n",
       "</div>"
      ],
      "text/plain": [
       "     #                                 Text (truncated) Language (manual)  \\\n",
       "0    1        • Home\\n  • Categories\\n  • New\\n  • Popu                en   \n",
       "1    2         Sorry this model no exist in webcams onl                en   \n",
       "2    3         三元风水 神通玄空 家居风水 喜庆择日 起名改名 旺宅安神 转运法事 风水软件                 zh   \n",
       "3    4       Skip to content\\n\\nquello che è un fungo s                it   \n",
       "4    5       Search The Directory\\nSubmit URL  \\nHome >                en   \n",
       "5    6       banner\\nbanner to be\\nterug naar e-spots.n                nl   \n",
       "6    7         03 онлайн 03 Онлайн Задать вопрос Наши в                ru   \n",
       "7    8       banner\\nbanner to be\\nterug naar e-spots.n                nl   \n",
       "8    9    24HR客服專線:02-27654066  \\n　　\\n　\\n帳  號\\n密  碼\\n圖片                zh   \n",
       "9   10   \\n客服留言\\n客服留言\\n\\n熱門關鍵字\\n 關鍵字\\n威而鋼 viagra 壯陽藥 犀利                zh   \n",
       "10  11  首页我的欢畅玩家社区\\n登录注册\\n注销\\n网站导航\\n热门游戏\\n  • 炸裂骑士团\\n\\n                zh   \n",
       "11  12                                                                 en   \n",
       "12  13       迷惑電話\\n\\n⇒ 電話番号から名前と住所の検索　　　 ⇒ 名前と地域から住所と電話                zh   \n",
       "13  14       您好，欢迎光临必赢亚洲56电子游戏-必赢亚洲56.net！\\n\\n  • 服务热线                 zh   \n",
       "14  15        • 发布信息\\n  • 免费注册\\n  • 登录\\n  • 咨询热线：0755-2                zh   \n",
       "15  16        RSS订阅 加入收藏  设为首页\\nyg老虎机_hb老虎机_电子游戏 _斗地主_【                zh   \n",
       "16  17     按Ctrl + D,将蜗牛领券放入收藏夹，优惠券信息一手掌握！\\n\\n蜗牛领券\\n\\n                zh   \n",
       "17  18   小门户+联盟 ·  产品网篇\\n关闭\\n\\n能源频道\\n\\n  • 燃料油\\n  • 汽油网                zh   \n",
       "18  19  管家婆中特网\\n分享到：\\n更多\\n  • 管家婆中特网\\n\\n  • \\| 网站地图\\n                  zh   \n",
       "19  20       1/72 ème\\n\\n...un forum convivial consacré                fr   \n",
       "20  21                                    [IMG_2684[1]]                en   \n",
       "21  22        100 porno ~ 100% ПОРНО!\\nНа сайте 100 por                ru   \n",
       "22  23         retrouvez toutes les rimes de la langue                 fr   \n",
       "23  24     FAQ \\| Contact \\| S'identifier\\nlogo\\n  • So                fr   \n",
       "24  25       ﻿ UniDic برای اندروید\\n  • تبلیغات\\n  • وب                fa   \n",
       "\n",
       "   Language (fasttext) Probability (fasttext)  \n",
       "0                   en                  0.546  \n",
       "1                   en                  0.702  \n",
       "2                   zh                  0.963  \n",
       "3                   it                  0.970  \n",
       "4                   en                  0.767  \n",
       "5                   nl                  0.798  \n",
       "6                   ru                  0.995  \n",
       "7                   nl                  0.673  \n",
       "8                   zh                  0.985  \n",
       "9                   zh                  0.985  \n",
       "10                  zh                  0.979  \n",
       "11                  en                  0.110  \n",
       "12                  ja                  0.984  \n",
       "13                  zh                  0.989  \n",
       "14                  zh                  0.956  \n",
       "15                  zh                  0.914  \n",
       "16                  zh                  0.942  \n",
       "17                  zh                  0.995  \n",
       "18                  zh                  0.920  \n",
       "19                  fr                  0.985  \n",
       "20                  he                  0.276  \n",
       "21                  ru                  0.965  \n",
       "22                  fr                  0.888  \n",
       "23                  fr                  0.946  \n",
       "24                  fa                  0.999  "
      ]
     },
     "execution_count": 37,
     "metadata": {},
     "output_type": "execute_result"
    }
   ],
   "source": [
    "tab = []\n",
    "for i in range(1, 26):\n",
    "    if i >= 4:\n",
    "        patch_i = i + 1\n",
    "    else:\n",
    "        patch_i = i\n",
    "    with open(f\"../data/warc_txt/{patch_i}.txt\", \"r\") as f:\n",
    "        text = f.read()\n",
    "    lang_id, prob = identify_language(model_path, text)\n",
    "    tab.append(\n",
    "        {\n",
    "            \"#\": i,\n",
    "            \"Text (truncated)\": text[:40].replace(\"\\n\", \"\\\\n\").replace(\"|\", \"\\|\"),\n",
    "            \"Language (manual)\": manual_lang_ids[i],\n",
    "            \"Language (fasttext)\": lang_id,\n",
    "            \"Probability (fasttext)\": f\"{prob:.3f}\",\n",
    "        }\n",
    "    )\n",
    "df = pd.DataFrame(tab)\n",
    "df"
   ]
  },
  {
   "cell_type": "code",
   "execution_count": 38,
   "id": "e662401f-ada7-4676-8cfc-bf3dac7ccfa1",
   "metadata": {
    "execution": {
     "iopub.execute_input": "2024-05-19T03:42:53.922998Z",
     "iopub.status.busy": "2024-05-19T03:42:53.922613Z",
     "iopub.status.idle": "2024-05-19T03:42:53.940659Z",
     "shell.execute_reply": "2024-05-19T03:42:53.939835Z",
     "shell.execute_reply.started": "2024-05-19T03:42:53.922963Z"
    },
    "scrolled": true
   },
   "outputs": [
    {
     "name": "stdout",
     "output_type": "stream",
     "text": [
      "|   # | Text (truncated)                                                             | Language (manual)   | Language (fasttext)   |   Probability (fasttext) |\n",
      "|----:|:-----------------------------------------------------------------------------|:--------------------|:----------------------|-------------------------:|\n",
      "|   1 | • Home\\n  • Categories\\n  • New\\n  • Popu                                    | en                  | en                    |                    0.546 |\n",
      "|   2 | Sorry this model no exist in webcams onl                                     | en                  | en                    |                    0.702 |\n",
      "|   3 | 三元风水 神通玄空 家居风水 喜庆择日 起名改名 旺宅安神 转运法事 风水软件      | zh                  | zh                    |                    0.963 |\n",
      "|   4 | Skip to content\\n\\nquello che è un fungo s                                   | it                  | it                    |                    0.97  |\n",
      "|   5 | Search The Directory\\nSubmit URL  \\nHome >                                   | en                  | en                    |                    0.767 |\n",
      "|   6 | banner\\nbanner to be\\nterug naar e-spots.n                                   | nl                  | nl                    |                    0.798 |\n",
      "|   7 | 03 онлайн 03 Онлайн Задать вопрос Наши в                                     | ru                  | ru                    |                    0.995 |\n",
      "|   8 | banner\\nbanner to be\\nterug naar e-spots.n                                   | nl                  | nl                    |                    0.673 |\n",
      "|   9 | 24HR客服專線:02-27654066  \\n　　\\n　\\n帳  號\\n密  碼\\n圖片                   | zh                  | zh                    |                    0.985 |\n",
      "|  10 | \\n客服留言\\n客服留言\\n\\n熱門關鍵字\\n 關鍵字\\n威而鋼 viagra 壯陽藥 犀利       | zh                  | zh                    |                    0.985 |\n",
      "|  11 | 首页我的欢畅玩家社区\\n登录注册\\n注销\\n网站导航\\n热门游戏\\n  • 炸裂骑士团\\n\\n | zh                  | zh                    |                    0.979 |\n",
      "|  12 |                                                                              | en                  | en                    |                    0.11  |\n",
      "|  13 | 迷惑電話\\n\\n⇒ 電話番号から名前と住所の検索　　　 ⇒ 名前と地域から住所と電話  | zh                  | ja                    |                    0.984 |\n",
      "|  14 | 您好，欢迎光临必赢亚洲56电子游戏-必赢亚洲56.net！\\n\\n  • 服务热线            | zh                  | zh                    |                    0.989 |\n",
      "|  15 | • 发布信息\\n  • 免费注册\\n  • 登录\\n  • 咨询热线：0755-2                     | zh                  | zh                    |                    0.956 |\n",
      "|  16 | RSS订阅 加入收藏  设为首页\\nyg老虎机_hb老虎机_电子游戏 _斗地主_【            | zh                  | zh                    |                    0.914 |\n",
      "|  17 | 按Ctrl + D,将蜗牛领券放入收藏夹，优惠券信息一手掌握！\\n\\n蜗牛领券\\n\\n       | zh                  | zh                    |                    0.942 |\n",
      "|  18 | 小门户+联盟 ·  产品网篇\\n关闭\\n\\n能源频道\\n\\n  • 燃料油\\n  • 汽油网          | zh                  | zh                    |                    0.995 |\n",
      "|  19 | 管家婆中特网\\n分享到：\\n更多\\n  • 管家婆中特网\\n\\n  • \\| 网站地图\\n          | zh                  | zh                    |                    0.92  |\n",
      "|  20 | 1/72 ème\\n\\n...un forum convivial consacré                                   | fr                  | fr                    |                    0.985 |\n",
      "|  21 | [IMG_2684[1]]                                                                | en                  | he                    |                    0.276 |\n",
      "|  22 | 100 porno ~ 100% ПОРНО!\\nНа сайте 100 por                                    | ru                  | ru                    |                    0.965 |\n",
      "|  23 | retrouvez toutes les rimes de la langue                                      | fr                  | fr                    |                    0.888 |\n",
      "|  24 | FAQ \\| Contact \\| S'identifier\\nlogo\\n  • So                                 | fr                  | fr                    |                    0.946 |\n",
      "|  25 | ﻿ UniDic برای اندروید\\n  • تبلیغات\\n  • وب                                    | fa                  | fa                    |                    0.999 |\n"
     ]
    }
   ],
   "source": [
    "print(df.to_markdown(index=False))"
   ]
  },
  {
   "cell_type": "code",
   "execution_count": null,
   "id": "bb6a03d2-fe71-48bb-9a6c-0b3ff3fd9474",
   "metadata": {},
   "outputs": [],
   "source": []
  },
  {
   "cell_type": "code",
   "execution_count": 49,
   "id": "69c0fe9a-fa05-4220-9d36-6301636d7501",
   "metadata": {
    "execution": {
     "iopub.execute_input": "2024-05-19T04:05:57.010676Z",
     "iopub.status.busy": "2024-05-19T04:05:57.010250Z",
     "iopub.status.idle": "2024-05-19T04:07:13.247502Z",
     "shell.execute_reply": "2024-05-19T04:07:13.246486Z",
     "shell.execute_reply.started": "2024-05-19T04:05:57.010640Z"
    }
   },
   "outputs": [
    {
     "data": {
      "application/vnd.jupyter.widget-view+json": {
       "model_id": "c8ac1ef7309a4bcc96124b7a0c5b289a",
       "version_major": 2,
       "version_minor": 0
      },
      "text/plain": [
       "  0%|          | 0/1000 [00:00<?, ?it/s]"
      ]
     },
     "metadata": {},
     "output_type": "display_data"
    }
   ],
   "source": [
    "probs = []\n",
    "for i in tqdm(range(1, 1_001)):\n",
    "    with open(f\"../data/warc_txt/{i}.txt\", \"r\") as f:\n",
    "        text = f.read()\n",
    "    lang_id, prob = identify_language(model_path, text)\n",
    "    if lang_id == \"en\":\n",
    "        probs.append(prob)"
   ]
  },
  {
   "cell_type": "code",
   "execution_count": 51,
   "id": "758bd9bf-82d6-4538-8094-f86ae1db5bf7",
   "metadata": {
    "execution": {
     "iopub.execute_input": "2024-05-19T04:07:23.569401Z",
     "iopub.status.busy": "2024-05-19T04:07:23.568970Z",
     "iopub.status.idle": "2024-05-19T04:07:23.585006Z",
     "shell.execute_reply": "2024-05-19T04:07:23.584228Z",
     "shell.execute_reply.started": "2024-05-19T04:07:23.569365Z"
    }
   },
   "outputs": [
    {
     "data": {
      "text/plain": [
       "(272, 0.272)"
      ]
     },
     "execution_count": 51,
     "metadata": {},
     "output_type": "execute_result"
    }
   ],
   "source": [
    "len(probs), len(probs)/1000"
   ]
  },
  {
   "cell_type": "code",
   "execution_count": 54,
   "id": "a0b10aa1-3896-4735-862f-2b36eb27efd4",
   "metadata": {
    "execution": {
     "iopub.execute_input": "2024-05-19T04:08:06.075866Z",
     "iopub.status.busy": "2024-05-19T04:08:06.075328Z",
     "iopub.status.idle": "2024-05-19T04:08:06.196178Z",
     "shell.execute_reply": "2024-05-19T04:08:06.195362Z",
     "shell.execute_reply.started": "2024-05-19T04:08:06.075828Z"
    }
   },
   "outputs": [
    {
     "data": {
      "text/plain": [
       "(array([11.,  6.,  6., 13., 14., 28., 42., 41., 58., 53.]),\n",
       " array([0.07678044, 0.16734275, 0.25790505, 0.34846736, 0.43902967,\n",
       "        0.52959198, 0.62015429, 0.71071659, 0.8012789 , 0.89184121,\n",
       "        0.98240352]),\n",
       " <BarContainer object of 10 artists>)"
      ]
     },
     "execution_count": 54,
     "metadata": {},
     "output_type": "execute_result"
    },
    {
     "data": {
      "image/png": "[encoded data removed]",
      "text/plain": [
       "<Figure size 640x480 with 1 Axes>"
      ]
     },
     "metadata": {},
     "output_type": "display_data"
    }
   ],
   "source": [
    "plt.hist(probs)"
   ]
  },
  {
   "cell_type": "code",
   "execution_count": null,
   "id": "73e46260-74cc-4ffd-b5c8-60b1c1dc1982",
   "metadata": {},
   "outputs": [],
   "source": []
  }
 ],
 "metadata": {
  "kernelspec": {
   "display_name": "Python 3 (ipykernel)",
   "language": "python",
   "name": "python3"
  },
  "language_info": {
   "codemirror_mode": {
    "name": "ipython",
    "version": 3
   },
   "file_extension": ".py",
   "mimetype": "text/x-python",
   "name": "python",
   "nbconvert_exporter": "python",
   "pygments_lexer": "ipython3",
   "version": "3.10.14"
  }
 },
 "nbformat": 4,
 "nbformat_minor": 5
}
