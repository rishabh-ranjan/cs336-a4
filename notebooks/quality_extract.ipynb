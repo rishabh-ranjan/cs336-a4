{
 "cells": [
  {
   "cell_type": "code",
   "execution_count": 41,
   "id": "d758fef9-ec7c-4f54-9942-857c1cf2d11f",
   "metadata": {
    "execution": {
     "iopub.execute_input": "2024-05-26T04:07:06.485980Z",
     "iopub.status.busy": "2024-05-26T04:07:06.485546Z",
     "iopub.status.idle": "2024-05-26T04:07:06.502805Z",
     "shell.execute_reply": "2024-05-26T04:07:06.501981Z",
     "shell.execute_reply.started": "2024-05-26T04:07:06.485944Z"
    }
   },
   "outputs": [],
   "source": [
    "from pathlib import Path\n",
    "import random\n",
    "import re\n",
    "import string\n",
    "\n",
    "from bs4 import BeautifulSoup\n",
    "from fastwarc.warc import ArchiveIterator, WarcRecordType\n",
    "from fastwarc.stream_io import GZipStream\n",
    "from tqdm.auto import tqdm\n",
    "\n",
    "from cs336_data import extract, gopher"
   ]
  },
  {
   "cell_type": "code",
   "execution_count": 2,
   "id": "fc6efa25-2263-4e91-bc8e-5b3162a91619",
   "metadata": {
    "execution": {
     "iopub.execute_input": "2024-05-25T20:52:13.162466Z",
     "iopub.status.busy": "2024-05-25T20:52:13.162058Z",
     "iopub.status.idle": "2024-05-25T20:54:53.125517Z",
     "shell.execute_reply": "2024-05-25T20:54:53.124365Z",
     "shell.execute_reply.started": "2024-05-25T20:52:13.162431Z"
    }
   },
   "outputs": [],
   "source": [
    "extract.extract_text_from_warc_gz(\n",
    "    warc_gz_path=\"../data/scrape/enwiki_urls_sampled_100k.warc.gz\",\n",
    "    out_dir=\"../data/scrape/warc_text\"\n",
    ")"
   ]
  },
  {
   "cell_type": "code",
   "execution_count": 6,
   "id": "62065a23-0520-4049-87cf-feddda40db4c",
   "metadata": {
    "execution": {
     "iopub.execute_input": "2024-05-25T21:06:20.714948Z",
     "iopub.status.busy": "2024-05-25T21:06:20.714533Z",
     "iopub.status.idle": "2024-05-25T21:14:10.345856Z",
     "shell.execute_reply": "2024-05-25T21:14:10.344865Z",
     "shell.execute_reply.started": "2024-05-25T21:06:20.714913Z"
    }
   },
   "outputs": [
    {
     "data": {
      "application/vnd.jupyter.widget-view+json": {
       "model_id": "1e7a194a3d4b4ab58a852688c5054b1b",
       "version_major": 2,
       "version_minor": 0
      },
      "text/plain": [
       "  0%|          | 0/121183 [00:00<?, ?it/s]"
      ]
     },
     "metadata": {},
     "output_type": "display_data"
    }
   ],
   "source": [
    "in_dir = \"../data/scrape/warc_text\"\n",
    "out_dir = \"../data/scrape/filter_text\"\n",
    "Path(out_dir).mkdir(parents=True, exist_ok=True)\n",
    "for in_path in tqdm(list(Path(in_dir).iterdir())):\n",
    "    with open(in_path, \"r\") as in_f:\n",
    "        text = in_f.read()\n",
    "    filter_ = gopher.gopher_quality_filter(text)\n",
    "    if filter_:\n",
    "        out_path = f\"{out_dir}/{in_path.name}\"\n",
    "        with open(out_path, \"w\") as out_f:\n",
    "            out_f.write(text)"
   ]
  },
  {
   "cell_type": "markdown",
   "id": "32be3cc7-5e1b-47f0-87ee-0307d94a97ff",
   "metadata": {},
   "source": [
    "# negatives"
   ]
  },
  {
   "cell_type": "code",
   "execution_count": 69,
   "id": "118fac22-33df-417f-a297-c4cedc4d6d41",
   "metadata": {
    "execution": {
     "iopub.execute_input": "2024-05-26T04:30:46.972780Z",
     "iopub.status.busy": "2024-05-26T04:30:46.972328Z",
     "iopub.status.idle": "2024-05-26T04:30:46.987697Z",
     "shell.execute_reply": "2024-05-26T04:30:46.987039Z",
     "shell.execute_reply.started": "2024-05-26T04:30:46.972746Z"
    }
   },
   "outputs": [],
   "source": [
    "cc_dir = \"../data/CC-MAIN-2023-50-warc-filtered\"\n",
    "neg_dir = \"../data/cc_neg\"\n",
    "Path(neg_dir).mkdir(parents=True, exist_ok=True)"
   ]
  },
  {
   "cell_type": "code",
   "execution_count": 51,
   "id": "a168f2b9-4ef9-4352-933a-e73bc4f36292",
   "metadata": {
    "execution": {
     "iopub.execute_input": "2024-05-26T04:15:13.150469Z",
     "iopub.status.busy": "2024-05-26T04:15:13.150036Z",
     "iopub.status.idle": "2024-05-26T04:15:13.166826Z",
     "shell.execute_reply": "2024-05-26T04:15:13.166250Z",
     "shell.execute_reply.started": "2024-05-26T04:15:13.150434Z"
    }
   },
   "outputs": [],
   "source": [
    "def html_bytes_to_text(html_bytes):\n",
    "    soup = BeautifulSoup(html_bytes)\n",
    "    text = soup.get_text()\n",
    "    return text"
   ]
  },
  {
   "cell_type": "code",
   "execution_count": 52,
   "id": "28c9e04f-81fb-43e7-9397-06ada3d16338",
   "metadata": {
    "execution": {
     "iopub.execute_input": "2024-05-26T04:15:14.554568Z",
     "iopub.status.busy": "2024-05-26T04:15:14.554205Z",
     "iopub.status.idle": "2024-05-26T04:15:14.569203Z",
     "shell.execute_reply": "2024-05-26T04:15:14.568401Z",
     "shell.execute_reply.started": "2024-05-26T04:15:14.554534Z"
    }
   },
   "outputs": [],
   "source": [
    "punct_re = re.compile(f\"([{re.escape(string.punctuation)}])\")\n",
    "whitespace_re = re.compile(r\"\\s+\")"
   ]
  },
  {
   "cell_type": "code",
   "execution_count": 53,
   "id": "fa832d54-1d90-43b0-87e7-6013973a1c5b",
   "metadata": {
    "execution": {
     "iopub.execute_input": "2024-05-26T04:15:14.911352Z",
     "iopub.status.busy": "2024-05-26T04:15:14.911001Z",
     "iopub.status.idle": "2024-05-26T04:15:14.926774Z",
     "shell.execute_reply": "2024-05-26T04:15:14.925936Z",
     "shell.execute_reply.started": "2024-05-26T04:15:14.911320Z"
    }
   },
   "outputs": [],
   "source": [
    "def normalize_text(text):\n",
    "    text = punct_re.sub(r\" \\1 \", text)\n",
    "    text = text.lower()\n",
    "    text = whitespace_re.sub(\" \", text)\n",
    "    text = text.strip()\n",
    "    return text"
   ]
  },
  {
   "cell_type": "code",
   "execution_count": 58,
   "id": "cb33e74e-de48-46e0-8c0c-999ef2af6ea9",
   "metadata": {
    "execution": {
     "iopub.execute_input": "2024-05-26T04:16:09.624595Z",
     "iopub.status.busy": "2024-05-26T04:16:09.624204Z",
     "iopub.status.idle": "2024-05-26T04:16:09.641860Z",
     "shell.execute_reply": "2024-05-26T04:16:09.640997Z",
     "shell.execute_reply.started": "2024-05-26T04:16:09.624564Z"
    }
   },
   "outputs": [],
   "source": [
    "def preprocess_for_fasttext(html_bytes):\n",
    "    text = html_bytes_to_text(html_bytes)\n",
    "    text = normalize_text(text)\n",
    "    return text"
   ]
  },
  {
   "cell_type": "code",
   "execution_count": 59,
   "id": "54a1f6b7-fa3a-4ed0-9772-b8033ddebd5c",
   "metadata": {
    "execution": {
     "iopub.execute_input": "2024-05-26T04:16:10.394261Z",
     "iopub.status.busy": "2024-05-26T04:16:10.393901Z",
     "iopub.status.idle": "2024-05-26T04:16:10.409233Z",
     "shell.execute_reply": "2024-05-26T04:16:10.408380Z",
     "shell.execute_reply.started": "2024-05-26T04:16:10.394228Z"
    }
   },
   "outputs": [],
   "source": [
    "def html_filter(record):\n",
    "    return record.http_content_type != \"text/html\""
   ]
  },
  {
   "cell_type": "code",
   "execution_count": 72,
   "id": "369f60e7-7ee0-443b-9712-987a71a8798d",
   "metadata": {
    "execution": {
     "iopub.execute_input": "2024-05-26T04:34:09.585967Z",
     "iopub.status.busy": "2024-05-26T04:34:09.585521Z",
     "iopub.status.idle": "2024-05-26T04:34:09.606238Z",
     "shell.execute_reply": "2024-05-26T04:34:09.605136Z",
     "shell.execute_reply.started": "2024-05-26T04:34:09.585933Z"
    }
   },
   "outputs": [],
   "source": [
    "num_samples = 100_000\n",
    "num_warc_files = 100\n",
    "# num_samples = 10\n",
    "# num_warc_files = 1"
   ]
  },
  {
   "cell_type": "code",
   "execution_count": 73,
   "id": "39f899f0-0e56-45c2-98e6-3ae4a00b10e4",
   "metadata": {
    "execution": {
     "iopub.execute_input": "2024-05-26T04:34:35.258069Z",
     "iopub.status.busy": "2024-05-26T04:34:35.257639Z",
     "iopub.status.idle": "2024-05-26T04:56:29.168938Z",
     "shell.execute_reply": "2024-05-26T04:56:29.168217Z",
     "shell.execute_reply.started": "2024-05-26T04:34:35.258034Z"
    }
   },
   "outputs": [
    {
     "data": {
      "application/vnd.jupyter.widget-view+json": {
       "model_id": "079dea235d024433b7450f784bddde35",
       "version_major": 2,
       "version_minor": 0
      },
      "text/plain": [
       "  0%|          | 0/100 [00:00<?, ?it/s]"
      ]
     },
     "metadata": {},
     "output_type": "display_data"
    }
   ],
   "source": [
    "count = 0\n",
    "warc_gz_paths = list(Path(cc_dir).iterdir())\n",
    "warc_gz_paths = warc_gz_paths[:num_warc_files]\n",
    "for warc_gz_path in tqdm(warc_gz_paths):\n",
    "    with open(warc_gz_path, \"rb\") as gz:\n",
    "        with GZipStream(gz) as stream:\n",
    "            archive_iterator = ArchiveIterator(\n",
    "                stream,\n",
    "                record_types=WarcRecordType.response,\n",
    "                min_content_length=250,\n",
    "                max_content_length=500_000,\n",
    "                func_filter=html_filter,\n",
    "            )\n",
    "            for record in archive_iterator:\n",
    "                count += 1\n",
    "                r_idx = random.randrange(count)\n",
    "                if r_idx >= num_samples:\n",
    "                    continue\n",
    "                html_bytes = record.reader.read()\n",
    "                with open(f\"{neg_dir}/{r_idx}.html\", \"wb\") as out_f:\n",
    "                    out_f.write(html_bytes)"
   ]
  },
  {
   "cell_type": "markdown",
   "id": "e982ab88-3423-4206-bcf3-3b60a76b0fb5",
   "metadata": {},
   "source": [
    "# create fasttext training file"
   ]
  },
  {
   "cell_type": "code",
   "execution_count": null,
   "id": "81a042fc-546e-4bfb-9815-d2858a5ffffe",
   "metadata": {},
   "outputs": [],
   "source": [
    "pos_dir = "
   ]
  }
 ],
 "metadata": {
  "kernelspec": {
   "display_name": "Python 3 (ipykernel)",
   "language": "python",
   "name": "python3"
  },
  "language_info": {
   "codemirror_mode": {
    "name": "ipython",
    "version": 3
   },
   "file_extension": ".py",
   "mimetype": "text/x-python",
   "name": "python",
   "nbconvert_exporter": "python",
   "pygments_lexer": "ipython3",
   "version": "3.10.14"
  }
 },
 "nbformat": 4,
 "nbformat_minor": 5
}
