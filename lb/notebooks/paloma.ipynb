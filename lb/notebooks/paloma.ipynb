{
 "cells": [
  {
   "cell_type": "code",
   "execution_count": 32,
   "id": "76251db1-3a33-4ac5-b730-bb1e0c686719",
   "metadata": {
    "execution": {
     "iopub.execute_input": "2024-05-27T04:01:04.748173Z",
     "iopub.status.busy": "2024-05-27T04:01:04.747692Z",
     "iopub.status.idle": "2024-05-27T04:01:04.760696Z",
     "shell.execute_reply": "2024-05-27T04:01:04.760345Z",
     "shell.execute_reply.started": "2024-05-27T04:01:04.748139Z"
    }
   },
   "outputs": [],
   "source": [
    "import json\n",
    "import subprocess\n",
    "from pathlib import Path\n",
    "\n",
    "import numpy as np\n",
    "from xopen import xopen"
   ]
  },
  {
   "cell_type": "markdown",
   "id": "4a4868fa-a7dd-433b-8827-57eab1dc80b4",
   "metadata": {},
   "source": [
    "# raw"
   ]
  },
  {
   "cell_type": "code",
   "execution_count": 3,
   "id": "9afea680-66de-4adb-b21e-9293e66aa418",
   "metadata": {
    "execution": {
     "iopub.execute_input": "2024-05-27T02:33:05.540677Z",
     "iopub.status.busy": "2024-05-27T02:33:05.540218Z",
     "iopub.status.idle": "2024-05-27T02:33:05.552337Z",
     "shell.execute_reply": "2024-05-27T02:33:05.551916Z",
     "shell.execute_reply.started": "2024-05-27T02:33:05.540642Z"
    }
   },
   "outputs": [],
   "source": [
    "PALOMA_DIR = \"../scratch/paloma_c4_100_domains_val\""
   ]
  },
  {
   "cell_type": "code",
   "execution_count": 8,
   "id": "3905122c-7e40-449f-85ee-b8b3a5c239ed",
   "metadata": {
    "execution": {
     "iopub.execute_input": "2024-05-27T02:35:48.180644Z",
     "iopub.status.busy": "2024-05-27T02:35:48.180176Z",
     "iopub.status.idle": "2024-05-27T02:35:48.193089Z",
     "shell.execute_reply": "2024-05-27T02:35:48.192614Z",
     "shell.execute_reply.started": "2024-05-27T02:35:48.180598Z"
    }
   },
   "outputs": [],
   "source": [
    "paloma_files = list(Path(PALOMA_DIR).iterdir())"
   ]
  },
  {
   "cell_type": "code",
   "execution_count": 10,
   "id": "6d542a9f-7a98-4312-936d-7bc7a04c60a1",
   "metadata": {
    "execution": {
     "iopub.execute_input": "2024-05-27T02:38:18.154934Z",
     "iopub.status.busy": "2024-05-27T02:38:18.154486Z",
     "iopub.status.idle": "2024-05-27T02:38:18.186202Z",
     "shell.execute_reply": "2024-05-27T02:38:18.185304Z",
     "shell.execute_reply.started": "2024-05-27T02:38:18.154900Z"
    }
   },
   "outputs": [],
   "source": [
    "obj_list = []\n",
    "with xopen(paloma_files[0], \"r\") as in_file:\n",
    "    for line in in_file:\n",
    "        obj = json.loads(line)\n",
    "        obj_list.append(obj)"
   ]
  },
  {
   "cell_type": "code",
   "execution_count": 17,
   "id": "aa8222c5-bd3c-4893-a716-5602c2d8fe17",
   "metadata": {
    "execution": {
     "iopub.execute_input": "2024-05-27T02:39:23.024172Z",
     "iopub.status.busy": "2024-05-27T02:39:23.023719Z",
     "iopub.status.idle": "2024-05-27T02:39:23.036230Z",
     "shell.execute_reply": "2024-05-27T02:39:23.035878Z",
     "shell.execute_reply.started": "2024-05-27T02:39:23.024138Z"
    }
   },
   "outputs": [],
   "source": [
    "obj = obj_list[0]"
   ]
  },
  {
   "cell_type": "code",
   "execution_count": 18,
   "id": "bea6513d-6ce2-4a41-b03b-f1d1a091d0cd",
   "metadata": {
    "execution": {
     "iopub.execute_input": "2024-05-27T02:39:26.239602Z",
     "iopub.status.busy": "2024-05-27T02:39:26.239191Z",
     "iopub.status.idle": "2024-05-27T02:39:26.252196Z",
     "shell.execute_reply": "2024-05-27T02:39:26.251864Z",
     "shell.execute_reply.started": "2024-05-27T02:39:26.239570Z"
    },
    "scrolled": true
   },
   "outputs": [
    {
     "data": {
      "text/plain": [
       "dict_keys(['text', 'id', 'added', 'source', 'subdomain'])"
      ]
     },
     "execution_count": 18,
     "metadata": {},
     "output_type": "execute_result"
    }
   ],
   "source": [
    "obj.keys()"
   ]
  },
  {
   "cell_type": "code",
   "execution_count": 19,
   "id": "2d27d740-2276-4e92-a23d-8ff2387f1a1d",
   "metadata": {
    "execution": {
     "iopub.execute_input": "2024-05-27T02:39:30.432285Z",
     "iopub.status.busy": "2024-05-27T02:39:30.431862Z",
     "iopub.status.idle": "2024-05-27T02:39:30.445078Z",
     "shell.execute_reply": "2024-05-27T02:39:30.444711Z",
     "shell.execute_reply.started": "2024-05-27T02:39:30.432253Z"
    }
   },
   "outputs": [
    {
     "data": {
      "text/plain": [
       "'What does the future hold for Star Wars animation?\\nIt\\'s a sad day for fans of Star Wars: The Clone Wars... from a certain point of view.\\nLucasfilm and The Clone Wars\\' supervising director, Dave Filoni, have announced that Star Wars: The Clone Wars, the television series, is over and that the fifth season that just came to an end was the final one for the show.\\nBut here\\'s where it gets complicated. More episodes of The Clone Wars have been made than what we\\'ve seen. There were in fact glimpses in the trailer for Season 5 of a storyline that ended up being held, and there have been other references made by Filoni and others, as far back as Star Wars Celebration VI last summer, indicating more stories were being produced for a presumed sixth season. In fact, when I recently spoke to Filoni for a Post-Season 5 interview, he told me, \"There are more stories to tell, and as I’ve said, we’ve been working on them for awhile.\"\\nThere won\\'t be a sixth season, but the announcement did promise, \"We\\'re continuing production on new Clone Wars story arcs that promise to be some of the most thrilling adventures ever seen. Stay tuned for more information on where fans can soon find this bonus content.\"\\nThe Clone Wars had already made a shift to four-episode arcs and it seems like the most obvious route is to release upcoming story arcs as self-contained movies, just as some of these arcs have been presented at special screenings. The only question is where they\\'ll debut - on TV (on Disney XD perhaps?), straight-to-DVD/Blu-ray or theatrically?\\nSaid Filoni in the announcement, \"The best is yet to come. We have some of the most exciting, most important story arcs still coming your way,\" going on to note, \"There are still some gaps in there. Things that are really crucial to the overall story arc of the Star Wars universe.\" He went on to promise, \"They are the best episodes that my crew has committed to screen.\"\\nThe video of Filoni announcing the end of the series (see above) is accompanied by a clip, which shows an event that makes it seem The Clone Wars is going to at last delve into one of the most crucial events in Star Wars - Order 66.\\nThe Clone Wars announcement also included the decision to delay the debut of Star Wars: Detours, the comedic animated series from Seth Green, Matthew Senreich and Todd Grimes.\\nSaid the release, \"At Star Wars Celebration VI last year, George Lucas gave fans a glimpse at the animated comedy series Star Wars Detours from Seth Green, Matthew Senreich, and Todd Grimes. Detours was conceived and produced before we decided to move forward with the new Star Wars trilogy, and in the wake of that decision, Lucasfilm has reconsidered whether launching an animated comedy prior to the launch of Episode VII makes sense. As a result, we\\'ve decided to postpone the release of Detours until a later date.\"\\nUpdate: But wait, there\\'s more! Lucasfilm also revealed a brand new, mysterious animated Star Wars project is in the works. \"We are exploring a whole new Star Wars series set in a time period previously untouched in Star Wars films or television programming. You can expect more details in the months to come.\"'"
      ]
     },
     "execution_count": 19,
     "metadata": {},
     "output_type": "execute_result"
    }
   ],
   "source": [
    "obj[\"text\"]"
   ]
  },
  {
   "cell_type": "code",
   "execution_count": 20,
   "id": "19be042c-0d5f-46fb-a7ff-77a60c4b25d7",
   "metadata": {
    "execution": {
     "iopub.execute_input": "2024-05-27T02:39:36.254881Z",
     "iopub.status.busy": "2024-05-27T02:39:36.254432Z",
     "iopub.status.idle": "2024-05-27T02:39:36.267286Z",
     "shell.execute_reply": "2024-05-27T02:39:36.266941Z",
     "shell.execute_reply.started": "2024-05-27T02:39:36.254849Z"
    }
   },
   "outputs": [
    {
     "data": {
      "text/plain": [
       "'bb93185a-cdc7-42a6-8195-df9ebeafd360'"
      ]
     },
     "execution_count": 20,
     "metadata": {},
     "output_type": "execute_result"
    }
   ],
   "source": [
    "obj[\"id\"]"
   ]
  },
  {
   "cell_type": "code",
   "execution_count": 21,
   "id": "309ab81f-1a98-4435-8ebe-2958e54ce873",
   "metadata": {
    "execution": {
     "iopub.execute_input": "2024-05-27T02:39:43.894526Z",
     "iopub.status.busy": "2024-05-27T02:39:43.894073Z",
     "iopub.status.idle": "2024-05-27T02:39:43.907538Z",
     "shell.execute_reply": "2024-05-27T02:39:43.907175Z",
     "shell.execute_reply.started": "2024-05-27T02:39:43.894493Z"
    }
   },
   "outputs": [
    {
     "data": {
      "text/plain": [
       "'2023-04-01T00:16:27.393489+00:00'"
      ]
     },
     "execution_count": 21,
     "metadata": {},
     "output_type": "execute_result"
    }
   ],
   "source": [
    "obj[\"added\"]"
   ]
  },
  {
   "cell_type": "code",
   "execution_count": 22,
   "id": "7684447d-6175-4971-8bba-85e0cc295fe0",
   "metadata": {
    "execution": {
     "iopub.execute_input": "2024-05-27T02:39:51.191542Z",
     "iopub.status.busy": "2024-05-27T02:39:51.191104Z",
     "iopub.status.idle": "2024-05-27T02:39:51.204201Z",
     "shell.execute_reply": "2024-05-27T02:39:51.203868Z",
     "shell.execute_reply.started": "2024-05-27T02:39:51.191509Z"
    }
   },
   "outputs": [
    {
     "data": {
      "text/plain": [
       "'c4_100_domains'"
      ]
     },
     "execution_count": 22,
     "metadata": {},
     "output_type": "execute_result"
    }
   ],
   "source": [
    "obj[\"source\"]"
   ]
  },
  {
   "cell_type": "code",
   "execution_count": 23,
   "id": "ae564f1d-77c1-426a-946a-0b2cab12b074",
   "metadata": {
    "execution": {
     "iopub.execute_input": "2024-05-27T02:39:58.588501Z",
     "iopub.status.busy": "2024-05-27T02:39:58.588089Z",
     "iopub.status.idle": "2024-05-27T02:39:58.600519Z",
     "shell.execute_reply": "2024-05-27T02:39:58.600191Z",
     "shell.execute_reply.started": "2024-05-27T02:39:58.588468Z"
    }
   },
   "outputs": [
    {
     "data": {
      "text/plain": [
       "'100_www.ign.com'"
      ]
     },
     "execution_count": 23,
     "metadata": {},
     "output_type": "execute_result"
    }
   ],
   "source": [
    "obj[\"subdomain\"]"
   ]
  },
  {
   "cell_type": "markdown",
   "id": "d7d94918-b40d-4930-9154-ab3fae87dddf",
   "metadata": {},
   "source": [
    "# tokenized"
   ]
  },
  {
   "cell_type": "code",
   "execution_count": 25,
   "id": "947851dd-9c67-416d-9dc0-f97d7bf9a600",
   "metadata": {
    "execution": {
     "iopub.execute_input": "2024-05-27T03:05:07.578537Z",
     "iopub.status.busy": "2024-05-27T03:05:07.577825Z",
     "iopub.status.idle": "2024-05-27T03:05:07.590137Z",
     "shell.execute_reply": "2024-05-27T03:05:07.589720Z",
     "shell.execute_reply.started": "2024-05-27T03:05:07.578501Z"
    }
   },
   "outputs": [],
   "source": [
    "PALOMA_BIN = \"../scratch/paloma_c4_100_domains_val_tokenized.bin\""
   ]
  },
  {
   "cell_type": "code",
   "execution_count": 26,
   "id": "c942ccf3-1675-42f6-bf17-f32471f86901",
   "metadata": {
    "execution": {
     "iopub.execute_input": "2024-05-27T03:05:38.854017Z",
     "iopub.status.busy": "2024-05-27T03:05:38.853448Z",
     "iopub.status.idle": "2024-05-27T03:05:38.867250Z",
     "shell.execute_reply": "2024-05-27T03:05:38.866818Z",
     "shell.execute_reply.started": "2024-05-27T03:05:38.853981Z"
    }
   },
   "outputs": [],
   "source": [
    "data = np.memmap(PALOMA_BIN, dtype=np.uint16, mode=\"r\")"
   ]
  },
  {
   "cell_type": "code",
   "execution_count": 29,
   "id": "5afeeefd-b634-434d-9196-c0fdfeebdf32",
   "metadata": {
    "execution": {
     "iopub.execute_input": "2024-05-27T03:06:04.178303Z",
     "iopub.status.busy": "2024-05-27T03:06:04.177819Z",
     "iopub.status.idle": "2024-05-27T03:06:04.190715Z",
     "shell.execute_reply": "2024-05-27T03:06:04.190359Z",
     "shell.execute_reply.started": "2024-05-27T03:06:04.178268Z"
    }
   },
   "outputs": [
    {
     "data": {
      "text/plain": [
       "'9_761_402'"
      ]
     },
     "execution_count": 29,
     "metadata": {},
     "output_type": "execute_result"
    }
   ],
   "source": [
    "f\"{len(data):_}\""
   ]
  },
  {
   "cell_type": "markdown",
   "id": "dd7d134b-2c8c-4994-934a-e458c795d3b7",
   "metadata": {
    "execution": {
     "iopub.execute_input": "2024-05-27T03:59:25.307561Z",
     "iopub.status.busy": "2024-05-27T03:59:25.306967Z",
     "iopub.status.idle": "2024-05-27T03:59:25.320514Z",
     "shell.execute_reply": "2024-05-27T03:59:25.320145Z",
     "shell.execute_reply.started": "2024-05-27T03:59:25.307526Z"
    }
   },
   "source": [
    "# replicate"
   ]
  },
  {
   "cell_type": "code",
   "execution_count": 35,
   "id": "69d44276-dacc-429d-b371-b6861f81e7ee",
   "metadata": {
    "execution": {
     "iopub.execute_input": "2024-05-27T04:04:38.476040Z",
     "iopub.status.busy": "2024-05-27T04:04:38.475594Z",
     "iopub.status.idle": "2024-05-27T04:04:41.271581Z",
     "shell.execute_reply": "2024-05-27T04:04:41.270803Z",
     "shell.execute_reply.started": "2024-05-27T04:04:38.476006Z"
    }
   },
   "outputs": [
    {
     "name": "stderr",
     "output_type": "stream",
     "text": [
      "paloma: 100%|████████████████████████| 99/99 [00:02<00:00, 40.56it/s]\n"
     ]
    },
    {
     "data": {
      "text/plain": [
       "CompletedProcess(args='python -m lb.scripts.extract_paloma --paloma_dir ../scratch/paloma_c4_100_domains_val --text_dir ../scratch/text/paloma', returncode=0)"
      ]
     },
     "execution_count": 35,
     "metadata": {},
     "output_type": "execute_result"
    }
   ],
   "source": [
    "cmd = (\n",
    "    f\"python -m lb.scripts.extract_paloma \"\n",
    "    f\"--paloma_dir ../scratch/paloma_c4_100_domains_val \"\n",
    "    f\"--text_dir ../scratch/text/paloma\"\n",
    ")\n",
    "subprocess.run(cmd, shell=True)"
   ]
  },
  {
   "cell_type": "code",
   "execution_count": 54,
   "id": "6cfc78f1-152b-425b-a100-aa3d87e11a59",
   "metadata": {
    "execution": {
     "iopub.execute_input": "2024-05-27T04:17:23.836636Z",
     "iopub.status.busy": "2024-05-27T04:17:23.836156Z",
     "iopub.status.idle": "2024-05-27T04:17:59.153294Z",
     "shell.execute_reply": "2024-05-27T04:17:59.152264Z",
     "shell.execute_reply.started": "2024-05-27T04:17:23.836566Z"
    }
   },
   "outputs": [
    {
     "name": "stderr",
     "output_type": "stream",
     "text": [
      "text_files:   0%|                          | 0/14059 [00:00<?, ?it/s]Token indices sequence length is longer than the specified maximum sequence length for this model (1077 > 1024). Running this sequence through the model will result in indexing errors\n",
      "text_files: 100%|█████████████| 14059/14059 [00:32<00:00, 429.68it/s]\n"
     ]
    },
    {
     "data": {
      "text/plain": [
       "CompletedProcess(args='python -m lb.scripts.tokenize --text_dir ../scratch/text/paloma --tokens_file ../scratch/tokenized/paloma.bin', returncode=0)"
      ]
     },
     "execution_count": 54,
     "metadata": {},
     "output_type": "execute_result"
    }
   ],
   "source": [
    "cmd = (\n",
    "    f\"python -m lb.scripts.tokenize \"\n",
    "    f\"--text_dir ../scratch/text/paloma \"\n",
    "    f\"--tokens_file ../scratch/tokenized/paloma.bin\"\n",
    ")\n",
    "subprocess.run(cmd, shell=True)"
   ]
  },
  {
   "cell_type": "code",
   "execution_count": 61,
   "id": "072677d3-d1e1-4562-8ac6-4df4b61ca427",
   "metadata": {
    "execution": {
     "iopub.execute_input": "2024-05-27T04:19:44.484749Z",
     "iopub.status.busy": "2024-05-27T04:19:44.484184Z",
     "iopub.status.idle": "2024-05-27T04:19:44.499089Z",
     "shell.execute_reply": "2024-05-27T04:19:44.498410Z",
     "shell.execute_reply.started": "2024-05-27T04:19:44.484713Z"
    }
   },
   "outputs": [],
   "source": [
    "arr_want = np.memmap(\n",
    "    \"../scratch/paloma_c4_100_domains_val_tokenized.bin\", dtype=np.uint16, mode=\"r\"\n",
    ")"
   ]
  },
  {
   "cell_type": "code",
   "execution_count": 62,
   "id": "f340992f-9802-4696-a90b-eecc1a233376",
   "metadata": {
    "execution": {
     "iopub.execute_input": "2024-05-27T04:19:52.316367Z",
     "iopub.status.busy": "2024-05-27T04:19:52.315959Z",
     "iopub.status.idle": "2024-05-27T04:19:52.338335Z",
     "shell.execute_reply": "2024-05-27T04:19:52.337974Z",
     "shell.execute_reply.started": "2024-05-27T04:19:52.316334Z"
    }
   },
   "outputs": [],
   "source": [
    "arr_have = np.memmap(\"../scratch/tokenized/paloma.bin\", dtype=np.uint16, mode=\"r\")"
   ]
  },
  {
   "cell_type": "code",
   "execution_count": 63,
   "id": "4cbfc410-d130-4801-9b87-eaaf502fbbd2",
   "metadata": {
    "execution": {
     "iopub.execute_input": "2024-05-27T04:20:02.065271Z",
     "iopub.status.busy": "2024-05-27T04:20:02.064854Z",
     "iopub.status.idle": "2024-05-27T04:20:02.079847Z",
     "shell.execute_reply": "2024-05-27T04:20:02.079230Z",
     "shell.execute_reply.started": "2024-05-27T04:20:02.065237Z"
    }
   },
   "outputs": [
    {
     "data": {
      "text/plain": [
       "9761402"
      ]
     },
     "execution_count": 63,
     "metadata": {},
     "output_type": "execute_result"
    }
   ],
   "source": [
    "len(arr_want)"
   ]
  },
  {
   "cell_type": "code",
   "execution_count": 64,
   "id": "6628cb4a-bdca-42e9-a516-33c5fbfc756e",
   "metadata": {
    "execution": {
     "iopub.execute_input": "2024-05-27T04:20:03.291710Z",
     "iopub.status.busy": "2024-05-27T04:20:03.291287Z",
     "iopub.status.idle": "2024-05-27T04:20:03.306505Z",
     "shell.execute_reply": "2024-05-27T04:20:03.306147Z",
     "shell.execute_reply.started": "2024-05-27T04:20:03.291677Z"
    }
   },
   "outputs": [
    {
     "data": {
      "text/plain": [
       "9761402"
      ]
     },
     "execution_count": 64,
     "metadata": {},
     "output_type": "execute_result"
    }
   ],
   "source": [
    "len(arr_have)"
   ]
  },
  {
   "cell_type": "code",
   "execution_count": 65,
   "id": "ac7dc6e6-811e-4da4-9d9e-149e56c898dd",
   "metadata": {
    "execution": {
     "iopub.execute_input": "2024-05-27T04:20:04.883871Z",
     "iopub.status.busy": "2024-05-27T04:20:04.883496Z",
     "iopub.status.idle": "2024-05-27T04:20:04.897483Z",
     "shell.execute_reply": "2024-05-27T04:20:04.897108Z",
     "shell.execute_reply.started": "2024-05-27T04:20:04.883838Z"
    }
   },
   "outputs": [
    {
     "data": {
      "text/plain": [
       "memmap([ 3666,  3656,   290, ...,   767,    13, 50256], dtype=uint16)"
      ]
     },
     "execution_count": 65,
     "metadata": {},
     "output_type": "execute_result"
    }
   ],
   "source": [
    "arr_want"
   ]
  },
  {
   "cell_type": "code",
   "execution_count": 66,
   "id": "1e01f1ed-95a7-48a5-9f2f-e82174364096",
   "metadata": {
    "execution": {
     "iopub.execute_input": "2024-05-27T04:20:06.326004Z",
     "iopub.status.busy": "2024-05-27T04:20:06.325625Z",
     "iopub.status.idle": "2024-05-27T04:20:06.339741Z",
     "shell.execute_reply": "2024-05-27T04:20:06.339150Z",
     "shell.execute_reply.started": "2024-05-27T04:20:06.325972Z"
    }
   },
   "outputs": [
    {
     "data": {
      "text/plain": [
       "memmap([15905,   447,   247, ...,  4621,    13, 50256], dtype=uint16)"
      ]
     },
     "execution_count": 66,
     "metadata": {},
     "output_type": "execute_result"
    }
   ],
   "source": [
    "arr_have"
   ]
  },
  {
   "cell_type": "code",
   "execution_count": 68,
   "id": "415e47b9-936e-46db-b775-889463fec2fc",
   "metadata": {
    "execution": {
     "iopub.execute_input": "2024-05-27T04:22:26.085500Z",
     "iopub.status.busy": "2024-05-27T04:22:26.085072Z",
     "iopub.status.idle": "2024-05-27T04:22:26.108988Z",
     "shell.execute_reply": "2024-05-27T04:22:26.108566Z",
     "shell.execute_reply.started": "2024-05-27T04:22:26.085465Z"
    }
   },
   "outputs": [
    {
     "data": {
      "text/plain": [
       "44563429315"
      ]
     },
     "execution_count": 68,
     "metadata": {},
     "output_type": "execute_result"
    }
   ],
   "source": [
    "arr_want.sum()"
   ]
  },
  {
   "cell_type": "code",
   "execution_count": 69,
   "id": "9d57295c-3b54-4064-8a7b-6d54c46ce698",
   "metadata": {
    "execution": {
     "iopub.execute_input": "2024-05-27T04:22:31.667259Z",
     "iopub.status.busy": "2024-05-27T04:22:31.666829Z",
     "iopub.status.idle": "2024-05-27T04:22:31.685263Z",
     "shell.execute_reply": "2024-05-27T04:22:31.684833Z",
     "shell.execute_reply.started": "2024-05-27T04:22:31.667224Z"
    }
   },
   "outputs": [
    {
     "data": {
      "text/plain": [
       "44563429315"
      ]
     },
     "execution_count": 69,
     "metadata": {},
     "output_type": "execute_result"
    }
   ],
   "source": [
    "arr_have.sum()"
   ]
  },
  {
   "cell_type": "markdown",
   "id": "8241792c-fffb-4407-9c07-06629f6d573f",
   "metadata": {},
   "source": [
    "^ equivalent upto ordering of documents"
   ]
  },
  {
   "cell_type": "code",
   "execution_count": null,
   "id": "a4f62d59-24ac-4ee0-b93b-ea38c57ed22a",
   "metadata": {},
   "outputs": [],
   "source": []
  }
 ],
 "metadata": {
  "kernelspec": {
   "display_name": "Python 3 (ipykernel)",
   "language": "python",
   "name": "python3"
  },
  "language_info": {
   "codemirror_mode": {
    "name": "ipython",
    "version": 3
   },
   "file_extension": ".py",
   "mimetype": "text/x-python",
   "name": "python",
   "nbconvert_exporter": "python",
   "pygments_lexer": "ipython3",
   "version": "3.10.14"
  }
 },
 "nbformat": 4,
 "nbformat_minor": 5
}
